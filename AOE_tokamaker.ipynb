{
 "cells": [
  {
   "cell_type": "markdown",
   "id": "fSM3fo13JwBY",
   "metadata": {
    "id": "fSM3fo13JwBY"
   },
   "source": [
    "# Setup environment\n",
    "\n",
    "###Load TokaMaker and helpful python packages\n",
    "In this code segment, we import several helpful python packages and load in the TokaMaker code from GitHub. Default plotting values are also set here to make things more legible on most platforms. We also define a resize_polygon function which is helpful for defining geometries later on. **You do not need to change this code.**"
   ]
  },
  {
   "cell_type": "code",
   "execution_count": 1,
   "id": "t8DiCJlQJ10x",
   "metadata": {
    "execution": {
     "iopub.execute_input": "2025-07-02T15:33:44.222891Z",
     "iopub.status.busy": "2025-07-02T15:33:44.222627Z",
     "iopub.status.idle": "2025-07-02T15:33:44.662197Z",
     "shell.execute_reply": "2025-07-02T15:33:44.661802Z"
    },
    "id": "t8DiCJlQJ10x"
   },
   "outputs": [],
   "source": [
    "import os\n",
    "import sys\n",
    "import numpy as np\n",
    "import matplotlib.pyplot as plt\n",
    "from datetime import datetime\n",
    "\n",
    "plt.rcParams['figure.figsize']=(6,6)\n",
    "plt.rcParams['font.weight']='bold'\n",
    "plt.rcParams['axes.labelweight']='bold'\n",
    "plt.rcParams['lines.linewidth']=2\n",
    "plt.rcParams['lines.markeredgewidth']=2"
   ]
  },
  {
   "cell_type": "code",
   "execution_count": 2,
   "id": "4ffed57a",
   "metadata": {
    "execution": {
     "iopub.execute_input": "2025-07-02T15:33:44.664452Z",
     "iopub.status.busy": "2025-07-02T15:33:44.664243Z",
     "iopub.status.idle": "2025-07-02T15:33:44.666907Z",
     "shell.execute_reply": "2025-07-02T15:33:44.666560Z"
    }
   },
   "outputs": [],
   "source": [
    "# Get the home directory dynamically\n",
    "home_dir = os.path.expanduser(\"~\")\n",
    "\n",
    "# Construct the path dynamically\n",
    "oft_root_path = os.path.join(home_dir, \"OpenFUSIONToolkit/install_release\")\n",
    "\n",
    "# Set the environment variable\n",
    "os.environ[\"OFT_ROOTPATH\"] = oft_root_path\n",
    "\n",
    "# Append to sys.path\n",
    "tokamaker_python_path = os.getenv(\"OFT_ROOTPATH\")\n",
    "if tokamaker_python_path is not None:\n",
    "    sys.path.append(os.path.join(tokamaker_python_path, \"python\"))\n"
   ]
  },
  {
   "cell_type": "code",
   "execution_count": 3,
   "id": "I6fC9zTlMj4h",
   "metadata": {
    "execution": {
     "iopub.execute_input": "2025-07-02T15:33:44.668600Z",
     "iopub.status.busy": "2025-07-02T15:33:44.668446Z",
     "iopub.status.idle": "2025-07-02T15:33:44.775909Z",
     "shell.execute_reply": "2025-07-02T15:33:44.775568Z"
    },
    "id": "I6fC9zTlMj4h"
   },
   "outputs": [],
   "source": [
    "from OpenFUSIONToolkit import OFT_env\n",
    "from OpenFUSIONToolkit.TokaMaker import TokaMaker\n",
    "from OpenFUSIONToolkit.TokaMaker.meshing import gs_Domain, save_gs_mesh, load_gs_mesh\n",
    "from OpenFUSIONToolkit.TokaMaker.util import create_isoflux, create_power_flux_fun"
   ]
  },
  {
   "cell_type": "code",
   "execution_count": 4,
   "id": "-r8HlWIUUj1k",
   "metadata": {
    "execution": {
     "iopub.execute_input": "2025-07-02T15:33:44.777750Z",
     "iopub.status.busy": "2025-07-02T15:33:44.777566Z",
     "iopub.status.idle": "2025-07-02T15:33:44.782208Z",
     "shell.execute_reply": "2025-07-02T15:33:44.781733Z"
    },
    "id": "-r8HlWIUUj1k"
   },
   "outputs": [],
   "source": [
    "def resize_polygon(points, dx):\n",
    "    new_points = np.empty(np.shape(points))\n",
    "    for i in range(np.shape(points)[0]):\n",
    "        if i==0:\n",
    "            last = points[-1,:]\n",
    "            next = points[i+1,:]\n",
    "        elif i == np.shape(points)[0]-1:\n",
    "            last = points[i-1,:]\n",
    "            next = points[0,:]\n",
    "        else:\n",
    "            next = points[i+1,:]\n",
    "            last = points[i-1,:]\n",
    "        par = points[i,:]-last\n",
    "        par/= np.linalg.norm(par)\n",
    "        perp = np.array([par[1], -par[0]])\n",
    "        temp = points[i,:] + perp*dx\n",
    "        par_2 = next-points[i,:]\n",
    "        par_2/= np.linalg.norm(par_2)\n",
    "        perp_2 = [par_2[1], -par_2[0]]\n",
    "        new_points[i, :] = temp + dx/np.dot(perp_2,par)*par  + par*dx/np.dot(par_2,perp)*np.dot(par_2,par)\n",
    "    return new_points"
   ]
  },
  {
   "cell_type": "code",
   "execution_count": 5,
   "id": "6ea829de",
   "metadata": {
    "execution": {
     "iopub.execute_input": "2025-07-02T15:33:44.784169Z",
     "iopub.status.busy": "2025-07-02T15:33:44.784015Z",
     "iopub.status.idle": "2025-07-02T15:33:44.788556Z",
     "shell.execute_reply": "2025-07-02T15:33:44.787829Z"
    }
   },
   "outputs": [
    {
     "name": "stdout",
     "output_type": "stream",
     "text": [
      "Using folder name: testing_1\n",
      "Created simulation folder: examples/testing_1\n"
     ]
    }
   ],
   "source": [
    "import json\n",
    "import glob\n",
    "import os\n",
    "from datetime import datetime\n",
    "\n",
    "# Create examples directory if it doesn't exist\n",
    "examples_dir = \"examples\"\n",
    "if not os.path.exists(examples_dir):\n",
    "    os.makedirs(examples_dir)\n",
    "    print(f\"Created {examples_dir} directory\")\n",
    "\n",
    "# For testing, just use a simple folder name\n",
    "folder_name = \"testing_1\"\n",
    "print(f\"Using folder name: {folder_name}\")\n",
    "\n",
    "# Create the simulation folder (no timestamp for simplicity)\n",
    "simulation_folder = os.path.join(examples_dir, folder_name)\n",
    "\n",
    "# Create the simulation folder\n",
    "os.makedirs(simulation_folder, exist_ok=True)\n",
    "print(f\"Created simulation folder: {simulation_folder}\")\n",
    "\n",
    "# Function to save figures\n",
    "def save_figure(fig, filename, folder=simulation_folder):\n",
    "    \"\"\"Save figure to the simulation folder\"\"\"\n",
    "    filepath = os.path.join(folder, filename)\n",
    "    fig.savefig(filepath, dpi=300, bbox_inches='tight')\n",
    "    print(f\"Saved: {filepath}\")"
   ]
  },
  {
   "cell_type": "markdown",
   "id": "19iylESyK1IA",
   "metadata": {
    "id": "19iylESyK1IA"
   },
   "source": [
    "# Setup device geometry\n",
    "First, we need to tell TokaMaker what our tokamak should look like!"
   ]
  },
  {
   "cell_type": "markdown",
   "id": "mVBu459dLCPH",
   "metadata": {
    "id": "mVBu459dLCPH"
   },
   "source": [
    "### Set mesh resolution\n",
    "TokaMaker solves the Grad-Shafranov equation on a computational mesh. The finer the mesh is, the more accurate the solution will be. However, a finer mesh also decreases the speed of the solver. Here, we set a default resolution for the mesh in each domain. **You do not need to change these values.**"
   ]
  },
  {
   "cell_type": "code",
   "execution_count": 6,
   "id": "QxiafR17LqaR",
   "metadata": {
    "execution": {
     "iopub.execute_input": "2025-07-02T15:33:44.790743Z",
     "iopub.status.busy": "2025-07-02T15:33:44.790588Z",
     "iopub.status.idle": "2025-07-02T15:33:44.792909Z",
     "shell.execute_reply": "2025-07-02T15:33:44.792579Z"
    },
    "id": "QxiafR17LqaR"
   },
   "outputs": [],
   "source": [
    "#### DO NOT CHANGE ####\n",
    "plasma_dx = 0.15\n",
    "coil_dx = 0.15\n",
    "vv_dx = 0.15\n",
    "vac_dx = 0.25\n",
    "#### DO NOT CHANGE ####"
   ]
  },
  {
   "cell_type": "markdown",
   "id": "Bc1EVaaIN_1s",
   "metadata": {
    "id": "Bc1EVaaIN_1s"
   },
   "source": [
    "### Specify the geometry of the vacuum vessel\n",
    "\n",
    "We need to decide on the shape of our vacuum vessel. We want to design a vacuum vessel that will fit our desired plasma shape. To visualize what our plasma looks like, we can use several quantities on your list of targets, including major radius, minor radius, elongation, and triangularity. Modify these quantities to correspond to your targets\n",
    "\n"
   ]
  },
  {
   "cell_type": "code",
   "execution_count": 7,
   "id": "GvYy3XE621tq",
   "metadata": {
    "execution": {
     "iopub.execute_input": "2025-07-02T15:33:44.794499Z",
     "iopub.status.busy": "2025-07-02T15:33:44.794364Z",
     "iopub.status.idle": "2025-07-02T15:33:44.798710Z",
     "shell.execute_reply": "2025-07-02T15:33:44.798404Z"
    },
    "id": "GvYy3XE621tq"
   },
   "outputs": [
    {
     "name": "stdout",
     "output_type": "stream",
     "text": [
      "Loaded data from: examples/testing_1/design_20250702_113339.json\n",
      "major_radius: 4.75, minor_radius: 1.05, elongation: 1.65, triangularity: -0.4\n"
     ]
    }
   ],
   "source": [
    "\n",
    "\n",
    "# Find all JSON files in the directory\n",
    "json_files = glob.glob('examples/testing_1/*.json')\n",
    "\n",
    "if json_files:\n",
    "    # Sort to get the most recent file (if you want the latest)\n",
    "    json_files.sort(reverse=True)\n",
    "    latest_file = json_files[0]\n",
    "    \n",
    "    # Now open the specific file\n",
    "    with open(latest_file, 'r') as f:\n",
    "        design_data = json.load(f)\n",
    "        print(f\"Loaded data from: {latest_file}\")\n",
    "        major_radius = design_data['plasma_parameters']['major_radius']\n",
    "        minor_radius = design_data['plasma_parameters']['minor_radius']\n",
    "        elongation = design_data['plasma_parameters']['elongation']\n",
    "        triangularity = design_data['plasma_parameters']['triangularity']\n",
    "        print(f\"major_radius: {major_radius}, minor_radius: {minor_radius}, elongation: {elongation}, triangularity: {triangularity}\")\n",
    "else:\n",
    "    print(\"No JSON files found\")\n",
    "\n",
    "boundary_pts = create_isoflux(30,major_radius,0.0,minor_radius,elongation,triangularity)"
   ]
  },
  {
   "cell_type": "markdown",
   "id": "TjdxKZCA3wRP",
   "metadata": {
    "id": "TjdxKZCA3wRP"
   },
   "source": [
    "Now, we have to decide the shape of our vacuum vessel cross-section. We do this by defining an array of (R,Z) coordinates for the vacuum vessel boundary. Every number in the array must be a float (a number including a decimal point). So, 3.5 and 3.0 are acceptable entries, but 3 is not."
   ]
  },
  {
   "cell_type": "code",
   "execution_count": 8,
   "id": "0TGi1hYDOWZp",
   "metadata": {
    "execution": {
     "iopub.execute_input": "2025-07-02T15:33:44.800506Z",
     "iopub.status.busy": "2025-07-02T15:33:44.800394Z",
     "iopub.status.idle": "2025-07-02T15:33:44.803609Z",
     "shell.execute_reply": "2025-07-02T15:33:44.803309Z"
    },
    "id": "0TGi1hYDOWZp"
   },
   "outputs": [
    {
     "name": "stdout",
     "output_type": "stream",
     "text": [
      "[[ 3.25 -0.75]\n",
      " [ 3.5  -1.5 ]\n",
      " [ 4.5  -1.85]\n",
      " [ 6.   -1.85]\n",
      " [ 6.    1.85]\n",
      " [ 4.5   1.85]\n",
      " [ 3.5   1.5 ]\n",
      " [ 3.25  1.  ]]\n"
     ]
    }
   ],
   "source": [
    "\n",
    "vv_boundary = np.array(design_data['vacuum_vessel']['boundary_coordinates'])\n",
    "print(vv_boundary)\n",
    "\n",
    "''' \n",
    "NEGATIVE TRIANGULARITY VV \n",
    "vv_boundary = np.array([[3.25, -0.75],[3.75, -1.25], [4.5, -1.85],[6.0, -1.85], [6.0, 1.85], [4.5, 1.85], [3.75, 1.25], [3.25, 1.0]]) ##Add/change the vacuum vessel coordinates here!!!\n",
    "\n",
    "BOX VV\n",
    "vv_boundary = np.array([[3.2, -1.8], [6.0, -1.8], [6.0, 1.8], [3.2,1.8]]) \n",
    "'''\n",
    "\n",
    "vv_outer = resize_polygon(vv_boundary, 0.04)"
   ]
  },
  {
   "cell_type": "markdown",
   "id": "sSZVfPhvOh-A",
   "metadata": {
    "id": "sSZVfPhvOh-A"
   },
   "source": [
    "Now, you can plot the shape of the plasma and the vacuum vessel boundary to see what they look like.  If your plasma cross-section does not fit inside the vacuum vessel, go back and modify your vacuum vessel points!"
   ]
  },
  {
   "cell_type": "code",
   "execution_count": 9,
   "id": "4Yiz5V7WOltw",
   "metadata": {
    "colab": {
     "base_uri": "https://localhost:8080/",
     "height": 124
    },
    "execution": {
     "iopub.execute_input": "2025-07-02T15:33:44.805118Z",
     "iopub.status.busy": "2025-07-02T15:33:44.805013Z",
     "iopub.status.idle": "2025-07-02T15:33:44.823242Z",
     "shell.execute_reply": "2025-07-02T15:33:44.822892Z"
    },
    "executionInfo": {
     "elapsed": 246,
     "status": "ok",
     "timestamp": 1740698879212,
     "user": {
      "displayName": "Gaurav Paliwal",
      "userId": "00188396162454001401"
     },
     "user_tz": 300
    },
    "id": "4Yiz5V7WOltw",
    "outputId": "43362d06-ec40-49bf-a3a1-e3e6072c8f4d"
   },
   "outputs": [
    {
     "data": {
      "text/plain": [
       "Text(0, 0.5, 'Z (m)')"
      ]
     },
     "execution_count": 9,
     "metadata": {},
     "output_type": "execute_result"
    }
   ],
   "source": [
    "fig, ax = plt.subplots()\n",
    "ax.fill(vv_outer[:,0], vv_outer[:,1], color = 'k')\n",
    "ax.fill(vv_boundary[:,0], vv_boundary[:,1], color = 'w')\n",
    "ax.scatter(boundary_pts[:,0], boundary_pts[:,1], color = 'b')\n",
    "ax.set_aspect(aspect = 1)\n",
    "ax.set_xlabel('R (m)')\n",
    "ax.set_ylabel('Z (m)')"
   ]
  },
  {
   "cell_type": "markdown",
   "id": "xUTa-xuRO-ar",
   "metadata": {
    "id": "xUTa-xuRO-ar"
   },
   "source": [
    "### Place poloidal field coils\n",
    "Now, we need to specify the locations of our poloidal field coils using (R,Z) coordinates. You can use a total of 8 poloidal field coils. You will need to change these coordinates to achieve the desired plasma shape."
   ]
  },
  {
   "cell_type": "code",
   "execution_count": 10,
   "id": "duf95pLAPuLX",
   "metadata": {
    "execution": {
     "iopub.execute_input": "2025-07-02T15:33:44.824825Z",
     "iopub.status.busy": "2025-07-02T15:33:44.824685Z",
     "iopub.status.idle": "2025-07-02T15:33:44.827156Z",
     "shell.execute_reply": "2025-07-02T15:33:44.826874Z"
    },
    "id": "duf95pLAPuLX"
   },
   "outputs": [
    {
     "name": "stdout",
     "output_type": "stream",
     "text": [
      "[[ 4.    2.5 ]\n",
      " [ 4.   -2.5 ]\n",
      " [ 5.25  2.25]\n",
      " [ 5.25 -2.25]\n",
      " [ 6.5   0.5 ]\n",
      " [ 6.5  -0.5 ]\n",
      " [ 2.8   0.25]\n",
      " [ 2.8  -0.25]]\n"
     ]
    }
   ],
   "source": [
    "'''\n",
    "default coils \n",
    "\n",
    "PF_1_R = 4.0\n",
    "PF_1_Z = 2.0\n",
    "\n",
    "PF_2_R = 4.0\n",
    "PF_2_Z = -2.0\n",
    "\n",
    "PF_3_R = 5.25\n",
    "PF_3_Z = 2.25\n",
    "\n",
    "PF_4_R = 5.25\n",
    "PF_4_Z = -2.25\n",
    "\n",
    "PF_5_R = 6.5\n",
    "PF_5_Z = .5\n",
    "\n",
    "PF_6_R = 6.5\n",
    "PF_6_Z = -.5\n",
    "\n",
    "PF_7_R = 3\n",
    "PF_7_Z = 0.25\n",
    "\n",
    "PF_8_R = 3\n",
    "PF_8_Z = -0.25\n",
    "'''\n",
    "\n",
    "# coil_locs = np.array([[PF_1_R, PF_1_Z], [PF_2_R, PF_2_Z], [PF_3_R, PF_3_Z], [PF_4_R, PF_4_Z], [PF_5_R, PF_5_Z], [PF_6_R, PF_6_Z], [PF_7_R, PF_7_Z], [PF_8_R, PF_8_Z]])\n",
    "\n",
    "coil_locs = np.array(design_data[\"coil_coordinates\"])\n",
    "\n",
    "print(coil_locs)"
   ]
  },
  {
   "cell_type": "markdown",
   "id": "tbztTvbjRtdr",
   "metadata": {
    "id": "tbztTvbjRtdr"
   },
   "source": [
    "We can plot the locations of our coils and the vacuum vessel boundary. Make sure that the coils are outside of the vacuum vessel."
   ]
  },
  {
   "cell_type": "code",
   "execution_count": 11,
   "id": "w7VLdBf5RtBl",
   "metadata": {
    "colab": {
     "base_uri": "https://localhost:8080/",
     "height": 124
    },
    "execution": {
     "iopub.execute_input": "2025-07-02T15:33:44.828719Z",
     "iopub.status.busy": "2025-07-02T15:33:44.828589Z",
     "iopub.status.idle": "2025-07-02T15:33:44.942989Z",
     "shell.execute_reply": "2025-07-02T15:33:44.942655Z"
    },
    "executionInfo": {
     "elapsed": 124,
     "status": "ok",
     "timestamp": 1740698879439,
     "user": {
      "displayName": "Gaurav Paliwal",
      "userId": "00188396162454001401"
     },
     "user_tz": 300
    },
    "id": "w7VLdBf5RtBl",
    "outputId": "a3671290-4a86-4d8b-94a6-8fdc2470e435"
   },
   "outputs": [
    {
     "name": "stdout",
     "output_type": "stream",
     "text": [
      "Saved: examples/testing_1/01_vacuum_vessel_design.png\n"
     ]
    },
    {
     "name": "stderr",
     "output_type": "stream",
     "text": [
      "/var/folders/z5/d2ytmy3d2h18qcqwb9v71w2m0000gq/T/ipykernel_36889/2326095319.py:10: UserWarning: FigureCanvasAgg is non-interactive, and thus cannot be shown\n",
      "  plt.show()\n"
     ]
    }
   ],
   "source": [
    "fig, ax = plt.subplots()\n",
    "ax.fill(vv_outer[:,0], vv_outer[:,1], color = 'k')\n",
    "ax.fill(vv_boundary[:,0], vv_boundary[:,1], color = 'w')\n",
    "ax.scatter(boundary_pts[:,0], boundary_pts[:,1], color = 'b')\n",
    "ax.scatter(coil_locs[:,0], coil_locs[:,1], color = 'r')\n",
    "ax.set_aspect(aspect = 1)\n",
    "ax.set_xlabel('R (m)')\n",
    "ax.set_ylabel('Z (m)')\n",
    "\n",
    "plt.show()\n",
    "save_figure(fig, \"01_vacuum_vessel_design.png\")"
   ]
  },
  {
   "cell_type": "markdown",
   "id": "0dl-jMFbLzAM",
   "metadata": {
    "id": "0dl-jMFbLzAM"
   },
   "source": [
    "### Define the regions of our tokamak\n",
    "We have to tell the solver what domains we plan on implementing in our tokamak. For this device, we implement four types of domains:\n",
    "1.   An air domain, which surrounds the tokamak\n",
    "2.   A vaccum vessel domain, for the vacuum vessel containing the plasma\n",
    "3.   A plasma domain, where the plasma will be located\n",
    "4.   Eight poloidal field coil domains, which contain the coils we will use to shape the plasma\n",
    "\n",
    "**You do not need to change this code.**\n",
    "\n"
   ]
  },
  {
   "cell_type": "code",
   "execution_count": 12,
   "id": "uFiC6FlsMWfE",
   "metadata": {
    "execution": {
     "iopub.execute_input": "2025-07-02T15:33:44.944677Z",
     "iopub.status.busy": "2025-07-02T15:33:44.944526Z",
     "iopub.status.idle": "2025-07-02T15:33:44.947335Z",
     "shell.execute_reply": "2025-07-02T15:33:44.947013Z"
    },
    "id": "uFiC6FlsMWfE"
   },
   "outputs": [],
   "source": [
    "#### DO NOT CHANGE ####\n",
    "# Create a mesh object\n",
    "mesh = gs_Domain()\n",
    "# Define region information for mesh\n",
    "mesh.define_region('air',vac_dx,'boundary')        # Air domain\n",
    "mesh.define_region('vv',vv_dx,'conductor',eta= 6.9E-7)      # Vaccum vessel domain\n",
    "mesh.define_region('plasma',plasma_dx,'plasma')    # Plasma domain\n",
    "# Define each of the PF coils\n",
    "for i in range(1,9):\n",
    "    mesh.define_region('PF_' + str(i),coil_dx,'coil') # Coil domains\n",
    "#### DO NOT CHANGE ####\n",
    "\n",
    "# only works for 8 coils"
   ]
  },
  {
   "cell_type": "markdown",
   "id": "ZgnMfdYPT0Gp",
   "metadata": {
    "id": "ZgnMfdYPT0Gp"
   },
   "source": [
    "## Add region boundaries to our gs_Domain object\n",
    "Now that we have decided on our geometry, we need to pass that information on to the mesh object. **You do not need to modify this code.**"
   ]
  },
  {
   "cell_type": "code",
   "execution_count": 13,
   "id": "DLELB8fMUfRc",
   "metadata": {
    "execution": {
     "iopub.execute_input": "2025-07-02T15:33:44.948863Z",
     "iopub.status.busy": "2025-07-02T15:33:44.948735Z",
     "iopub.status.idle": "2025-07-02T15:33:44.952094Z",
     "shell.execute_reply": "2025-07-02T15:33:44.951740Z"
    },
    "id": "DLELB8fMUfRc"
   },
   "outputs": [],
   "source": [
    "#### DO NOT CHANGE ####\n",
    "# Define geometry\n",
    "mesh.add_annulus(vv_boundary,'plasma',vv_outer,'vv',parent_name='air') # Define the shape of the VV\n",
    "\n",
    "# Define the shape of the PF coils\n",
    "for i in range(1,9):\n",
    "    mesh.add_rectangle(coil_locs[i-1,0],coil_locs[i-1,1],0.3,0.3,'PF_' + str(i),parent_name='air')\n",
    "#### DO NOT CHANGE ####"
   ]
  },
  {
   "cell_type": "code",
   "execution_count": 14,
   "id": "ccGJup1QXzsk",
   "metadata": {
    "colab": {
     "base_uri": "https://localhost:8080/",
     "height": 54
    },
    "execution": {
     "iopub.execute_input": "2025-07-02T15:33:44.953735Z",
     "iopub.status.busy": "2025-07-02T15:33:44.953627Z",
     "iopub.status.idle": "2025-07-02T15:33:44.966710Z",
     "shell.execute_reply": "2025-07-02T15:33:44.966364Z"
    },
    "executionInfo": {
     "elapsed": 326,
     "status": "ok",
     "timestamp": 1740698879814,
     "user": {
      "displayName": "Gaurav Paliwal",
      "userId": "00188396162454001401"
     },
     "user_tz": 300
    },
    "id": "ccGJup1QXzsk",
    "outputId": "f32ed2f6-d945-4f5b-b3ca-fdd2270a30ee"
   },
   "outputs": [],
   "source": [
    "fig, ax = plt.subplots(1,1,figsize=(4,6),constrained_layout=True)\n",
    "mesh.plot_topology(fig,ax)"
   ]
  },
  {
   "cell_type": "markdown",
   "id": "EhYVeXQzWl6z",
   "metadata": {
    "id": "EhYVeXQzWl6z"
   },
   "source": [
    "### Generate mesh\n",
    "Now we generate the actual mesh that TokaMaker will use to solve the Grad Shafranov equation. We also plot the mesh to make sure that each region is defined properly. **You do not need to change this code.**"
   ]
  },
  {
   "cell_type": "code",
   "execution_count": 15,
   "id": "hLK0Sg4pWxAh",
   "metadata": {
    "colab": {
     "base_uri": "https://localhost:8080/"
    },
    "execution": {
     "iopub.execute_input": "2025-07-02T15:33:44.968336Z",
     "iopub.status.busy": "2025-07-02T15:33:44.968189Z",
     "iopub.status.idle": "2025-07-02T15:33:45.212026Z",
     "shell.execute_reply": "2025-07-02T15:33:45.211637Z"
    },
    "executionInfo": {
     "elapsed": 1997,
     "status": "ok",
     "timestamp": 1740698881811,
     "user": {
      "displayName": "Gaurav Paliwal",
      "userId": "00188396162454001401"
     },
     "user_tz": 300
    },
    "id": "hLK0Sg4pWxAh",
    "outputId": "82164b12-204a-446a-dac0-5310454f0fa3"
   },
   "outputs": [
    {
     "name": "stdout",
     "output_type": "stream",
     "text": [
      "Assembling regions:\n",
      "  # of unique points    = 321\n",
      "  # of unique segments  = 46\n"
     ]
    },
    {
     "name": "stdout",
     "output_type": "stream",
     "text": [
      "Generating mesh:\n",
      "  # of points  = 1953\n",
      "  # of cells   = 3792\n",
      "  # of regions = 11\n",
      "{'PF_1': {'reg_id': 4, 'coil_id': 0, 'nturns': 1, 'coil_set': 'PF_1', 'allow_xpoints': False}, 'PF_2': {'reg_id': 5, 'coil_id': 1, 'nturns': 1, 'coil_set': 'PF_2', 'allow_xpoints': False}, 'PF_3': {'reg_id': 6, 'coil_id': 2, 'nturns': 1, 'coil_set': 'PF_3', 'allow_xpoints': False}, 'PF_4': {'reg_id': 7, 'coil_id': 3, 'nturns': 1, 'coil_set': 'PF_4', 'allow_xpoints': False}, 'PF_5': {'reg_id': 8, 'coil_id': 4, 'nturns': 1, 'coil_set': 'PF_5', 'allow_xpoints': False}, 'PF_6': {'reg_id': 9, 'coil_id': 5, 'nturns': 1, 'coil_set': 'PF_6', 'allow_xpoints': False}, 'PF_7': {'reg_id': 10, 'coil_id': 6, 'nturns': 1, 'coil_set': 'PF_7', 'allow_xpoints': False}, 'PF_8': {'reg_id': 11, 'coil_id': 7, 'nturns': 1, 'coil_set': 'PF_8', 'allow_xpoints': False}}\n",
      "{'AIR': {'reg_id': 2, 'vac_id': 0, 'allow_xpoints': False}, 'VV': {'reg_id': 3, 'cond_id': 0, 'eta': 6.9e-07, 'noncontinuous': False, 'allow_xpoints': False}}\n"
     ]
    }
   ],
   "source": [
    "#### DO NOT CHANGE ####\n",
    "mesh_pts, mesh_lc, mesh_reg = mesh.build_mesh()\n",
    "coil_dict = mesh.get_coils()\n",
    "cond_dict = mesh.get_conductors()\n",
    "#### DO NOT CHANGE ####\n",
    "\n",
    "print(coil_dict)\n",
    "print(cond_dict)"
   ]
  },
  {
   "cell_type": "code",
   "execution_count": 16,
   "id": "AzGVGE_1ZY-Q",
   "metadata": {
    "colab": {
     "base_uri": "https://localhost:8080/",
     "height": 54
    },
    "execution": {
     "iopub.execute_input": "2025-07-02T15:33:45.213659Z",
     "iopub.status.busy": "2025-07-02T15:33:45.213513Z",
     "iopub.status.idle": "2025-07-02T15:33:45.236164Z",
     "shell.execute_reply": "2025-07-02T15:33:45.235792Z"
    },
    "executionInfo": {
     "elapsed": 913,
     "status": "ok",
     "timestamp": 1740698882748,
     "user": {
      "displayName": "Gaurav Paliwal",
      "userId": "00188396162454001401"
     },
     "user_tz": 300
    },
    "id": "AzGVGE_1ZY-Q",
    "outputId": "3da00a4f-e1ee-4bc9-c55e-039ceaca9b8b"
   },
   "outputs": [],
   "source": [
    "fig, ax = plt.subplots(1,1,figsize=(5,5),constrained_layout=True)\n",
    "mesh.plot_mesh(fig,ax)"
   ]
  },
  {
   "cell_type": "markdown",
   "id": "EhLkpAeYaBSM",
   "metadata": {
    "id": "EhLkpAeYaBSM"
   },
   "source": [
    "# Find a plasma equilibrium\n",
    "\n",
    "### Setup TokaMaker\n",
    "Now that we have set up our device, we are ready to solve for an equilibrium. First, we need to make a new object of the TokaMaker class and load in our mesh information.\n",
    "\n",
    "**Important note:** Without resetting your tokamaker object, these code segments can only be run once per Google colab session.  If you have modified your device and would like to run these lines again, please uncomment the \"tokamaker.reset()\" line, which will allow you to run tokamaker.setup() again. If you accidentally run these cells again without running reset(), you may get a message that your kernel has crashed. You can go to 'Runtime' -> 'Restart Session' in the Google Colab menu to start a new session (all of your code will be saved)."
   ]
  },
  {
   "cell_type": "code",
   "execution_count": 17,
   "id": "AowwAHdLSWkI",
   "metadata": {
    "execution": {
     "iopub.execute_input": "2025-07-02T15:33:45.237948Z",
     "iopub.status.busy": "2025-07-02T15:33:45.237809Z",
     "iopub.status.idle": "2025-07-02T15:33:45.239629Z",
     "shell.execute_reply": "2025-07-02T15:33:45.239320Z"
    },
    "id": "AowwAHdLSWkI"
   },
   "outputs": [],
   "source": [
    "# tokamaker.reset()"
   ]
  },
  {
   "cell_type": "code",
   "execution_count": 18,
   "id": "v-k4WSDlasiI",
   "metadata": {
    "colab": {
     "base_uri": "https://localhost:8080/"
    },
    "execution": {
     "iopub.execute_input": "2025-07-02T15:33:45.241020Z",
     "iopub.status.busy": "2025-07-02T15:33:45.240899Z",
     "iopub.status.idle": "2025-07-02T15:33:45.281120Z",
     "shell.execute_reply": "2025-07-02T15:33:45.280633Z"
    },
    "executionInfo": {
     "elapsed": 7,
     "status": "ok",
     "timestamp": 1740608394278,
     "user": {
      "displayName": "Sophia Blu Guizzo",
      "userId": "07247402270845785778"
     },
     "user_tz": 300
    },
    "id": "v-k4WSDlasiI",
    "outputId": "9a06eff1-b29c-4bf7-9375-549ea9cc4526"
   },
   "outputs": [
    {
     "name": "stdout",
     "output_type": "stream",
     "text": [
      "#----------------------------------------------\n",
      "Open FUSION Toolkit Initialized\n",
      "Development branch:   main\n",
      "Revision id:          f8ced65\n",
      "Parallelization Info:\n",
      "  Not compiled with MPI\n",
      "  # of OpenMP threads =    2\n",
      "Fortran input file    = /var/folders/z5/d2ytmy3d2h18qcqwb9v71w2m0000gq/T/oft_36889/oftpyin\n",
      "XML input file        = none\n",
      "Integer Precisions    =    4   8\n",
      "Float Precisions      =    4   8  16\n",
      "Complex Precisions    =    4   8\n",
      "LA backend            = native\n",
      "#----------------------------------------------\n",
      "\n",
      "\n",
      "**** Generating surface grid level  1\n",
      "  Generating boundary domain linkage\n",
      "  Mesh statistics:\n",
      "    Area         =  5.075E+01\n",
      "    # of points  =    1953\n",
      "    # of edges   =    5744\n",
      "    # of cells   =    3792\n",
      "    # of boundary points =     112\n",
      "    # of boundary edges  =     112\n",
      "    # of boundary cells  =     112\n",
      "  Resolution statistics:\n",
      "    hmin =  4.000E-02\n",
      "    hrms =  1.869E-01\n",
      "    hmax =  3.892E-01\n",
      "  Surface grounded at vertex     309\n",
      "\n"
     ]
    }
   ],
   "source": [
    "#### DO NOT CHANGE ####\n",
    "myOFT = OFT_env(nthreads=2)\n",
    "tokamaker = TokaMaker(myOFT)\n",
    "tokamaker.setup_mesh(mesh_pts, mesh_lc, mesh_reg)\n",
    "tokamaker.setup_regions(cond_dict=cond_dict,coil_dict=coil_dict)\n",
    "#### DO NOT CHANGE ####"
   ]
  },
  {
   "cell_type": "markdown",
   "id": "At1Pd3yWKi9v",
   "metadata": {
    "id": "At1Pd3yWKi9v"
   },
   "source": [
    "### Set magnetic field and major radius\n",
    "\n",
    "Here, we specify the magnetic field and major radius of the plasma. You should change these values to match your target parameters."
   ]
  },
  {
   "cell_type": "code",
   "execution_count": 19,
   "id": "80ZM6KfqKg2C",
   "metadata": {
    "colab": {
     "base_uri": "https://localhost:8080/"
    },
    "execution": {
     "iopub.execute_input": "2025-07-02T15:33:45.282998Z",
     "iopub.status.busy": "2025-07-02T15:33:45.282850Z",
     "iopub.status.idle": "2025-07-02T15:33:46.278228Z",
     "shell.execute_reply": "2025-07-02T15:33:46.277889Z"
    },
    "executionInfo": {
     "elapsed": 6843,
     "status": "ok",
     "timestamp": 1740608401122,
     "user": {
      "displayName": "Sophia Blu Guizzo",
      "userId": "07247402270845785778"
     },
     "user_tz": 300
    },
    "id": "80ZM6KfqKg2C",
    "outputId": "b6ea4ab1-3215-4b08-9ce6-e567a3ce88cc"
   },
   "outputs": [
    {
     "name": "stdout",
     "output_type": "stream",
     "text": [
      "\n",
      "**** Creating Lagrange FE space\n",
      "  Order  =    2\n",
      "  Minlev =   -1\n",
      "\n",
      " Computing flux BC matrix \n"
     ]
    },
    {
     "name": "stdout",
     "output_type": "stream",
     "text": [
      " Inverting real matrix\n",
      "   Time =    3.7740000000000000E-003\n"
     ]
    }
   ],
   "source": [
    "\n",
    "# NEGATIVE TRIANGULARITY\n",
    "B0 = design_data[\"advanced_settings\"][\"B0\"] #toroidal magnetic field\n",
    "\n",
    "# POSITIVE TRIANGULARITY\n",
    "# B0 = 1 #toroidal magnetic field\n",
    "\n",
    "R0 = major_radius #major radius\n",
    "tokamaker.setup(order=2,F0=B0*R0)\n",
    "\n"
   ]
  },
  {
   "cell_type": "markdown",
   "id": "KAZ-UoLVA2zg",
   "metadata": {
    "id": "KAZ-UoLVA2zg"
   },
   "source": [
    "### Define global quantities and targets\n",
    "\n",
    "We need to tell the solver a bit more information about our device. First, we need to specify the total current in the plasma, by setting a target value for 'Ip'.\n",
    "\n",
    "We also need to specify a target for the plasma pressure in the core of the tokamak. To do this, we set a number for the 'p_core_target'.\n",
    "\n",
    "You will likely need to adjust these quantities to match other design targets, such as an appropriate q-profile and the correct poloidal beta ($\\beta_p$)."
   ]
  },
  {
   "cell_type": "code",
   "execution_count": 20,
   "id": "qjZaLK97CtyA",
   "metadata": {
    "execution": {
     "iopub.execute_input": "2025-07-02T15:33:46.280113Z",
     "iopub.status.busy": "2025-07-02T15:33:46.279956Z",
     "iopub.status.idle": "2025-07-02T15:33:46.282537Z",
     "shell.execute_reply": "2025-07-02T15:33:46.282170Z"
    },
    "id": "qjZaLK97CtyA"
   },
   "outputs": [],
   "source": [
    "# POSITIVE TRIANGULARITY\n",
    "\n",
    "# Ip_target = 3E6\n",
    "# Ip_ratio_target = 1.0\n",
    "\n",
    "\n",
    "# NEGATIVE TRIANGULARITY\n",
    "# Ip_target = 8E6\n",
    "# Ip_ratio_target = 0.333\n",
    "\n",
    "Ip_target = design_data[\"advanced_settings\"][\"Ip_target\"]\n",
    "Ip_ratio_target = design_data[\"advanced_settings\"][\"Ip_ratio_target\"]\n",
    "\n",
    "tokamaker.set_targets(Ip=Ip_target,Ip_ratio = Ip_ratio_target)"
   ]
  },
  {
   "cell_type": "markdown",
   "id": "GuzzZkwsC0Qi",
   "metadata": {
    "id": "GuzzZkwsC0Qi"
   },
   "source": [
    "### Define plasma profiles\n",
    "\n",
    "The magnitudes of the F*F' and P' profiles are determined by the global quantities set above.  Now, we need to specify the actual shape of the profiles. For simplicity, we will use simple polynomial profiles of the form\n",
    " $((1-\\hat{\\psi})^{\\alpha})^{\\gamma}$ using the built-in TokaMaker function 'create_power_flux_fun'.\n",
    "\n",
    " Feel free to adjust the alpha ($\\alpha$) and gamma ($\\gamma$) parameters for both P' and F*F' to reach your desired internal inductance ($l_i$) target.\n"
   ]
  },
  {
   "cell_type": "code",
   "execution_count": 21,
   "id": "TRFkGcncFU_2",
   "metadata": {
    "execution": {
     "iopub.execute_input": "2025-07-02T15:33:46.284282Z",
     "iopub.status.busy": "2025-07-02T15:33:46.284139Z",
     "iopub.status.idle": "2025-07-02T15:33:46.294160Z",
     "shell.execute_reply": "2025-07-02T15:33:46.293837Z"
    },
    "id": "TRFkGcncFU_2"
   },
   "outputs": [],
   "source": [
    "\n",
    "\n",
    "# NEGATIVE TRIANGULARITY\n",
    "# ffp_alpha = 2.15\n",
    "# ffp_gamma = 1.7\n",
    "\n",
    "# pp_alpha = 2.15\n",
    "# pp_gamma = 1.7\n",
    "\n",
    "# POSITIVE TRIANGULARITY\n",
    "\n",
    "# ffp_alpha = 4.0\n",
    "# ffp_gamma = 1.0\n",
    "\n",
    "# pp_alpha = 1.5\n",
    "# pp_gamma = 2.0\n",
    "\n",
    "ffp_alpha = design_data[\"advanced_settings\"][\"ffp_alpha\"]\n",
    "ffp_gamma = design_data[\"advanced_settings\"][\"ffp_gamma\"]\n",
    "pp_alpha = design_data[\"advanced_settings\"][\"pp_alpha\"]\n",
    "pp_gamma = design_data[\"advanced_settings\"][\"pp_gamma\"]\n",
    "\n",
    "ffp_prof = create_power_flux_fun(40,pp_alpha,pp_gamma)\n",
    "pp_prof = create_power_flux_fun(40,ffp_alpha,ffp_gamma)\n",
    "\n",
    "tokamaker.set_profiles(ffp_prof=ffp_prof,pp_prof=pp_prof)"
   ]
  },
  {
   "cell_type": "code",
   "execution_count": 22,
   "id": "38bd2202",
   "metadata": {
    "execution": {
     "iopub.execute_input": "2025-07-02T15:33:46.295941Z",
     "iopub.status.busy": "2025-07-02T15:33:46.295786Z",
     "iopub.status.idle": "2025-07-02T15:33:46.299801Z",
     "shell.execute_reply": "2025-07-02T15:33:46.299476Z"
    }
   },
   "outputs": [
    {
     "name": "stdout",
     "output_type": "stream",
     "text": [
      "❌ Error loading json file: unhashable type: 'list'\n"
     ]
    }
   ],
   "source": [
    "'''\n",
    "major_radius = 4.55\n",
    "minor_radius = 1.2\n",
    "elongation = 1.4\n",
    "triangularity =  -0.5\n",
    "'''\n",
    "\n",
    "# reads the json file in testing_1\n",
    "\n",
    "parameter_json = glob.glob('tokamak_psp_2025/examples/testing_1/*.json')\n",
    "\n",
    "try:\n",
    "    with open(parameter_json, 'r') as f:\n",
    "        design_data = json.load(f)\n",
    "        print(\"✅ Loaded design parameters from json\")\n",
    "except Exception as e:\n",
    "        print(f\"❌ Error loading json file: {e}\")\n",
    "\n",
    "\n",
    "major_radius = design_data['plasma_parameters']['major_radius']\n",
    "minor_radius = design_data['plasma_parameters']['minor_radius']\n",
    "elongation = design_data['plasma_parameters']['elongation']\n",
    "triangularity = design_data['plasma_parameters']['triangularity']\n",
    "\n",
    "boundary_pts = create_isoflux(30,major_radius,0.0,minor_radius,elongation,triangularity)"
   ]
  },
  {
   "cell_type": "markdown",
   "id": "-WR__ruTGyKz",
   "metadata": {
    "id": "-WR__ruTGyKz"
   },
   "source": [
    "Now, we can visualize our profiles. \"Peaked\" profiles, which are more concentrated around $\\Psi$ = 0, correspond to higher internal inductance ($l_i$)."
   ]
  },
  {
   "cell_type": "code",
   "execution_count": 23,
   "id": "mVn-wAqiHHSN",
   "metadata": {
    "colab": {
     "base_uri": "https://localhost:8080/",
     "height": 547
    },
    "execution": {
     "iopub.execute_input": "2025-07-02T15:33:46.301362Z",
     "iopub.status.busy": "2025-07-02T15:33:46.301253Z",
     "iopub.status.idle": "2025-07-02T15:33:46.512245Z",
     "shell.execute_reply": "2025-07-02T15:33:46.511885Z"
    },
    "executionInfo": {
     "elapsed": 467,
     "status": "ok",
     "timestamp": 1740608401630,
     "user": {
      "displayName": "Sophia Blu Guizzo",
      "userId": "07247402270845785778"
     },
     "user_tz": 300
    },
    "id": "mVn-wAqiHHSN",
    "outputId": "21ae436d-a9e7-4aea-ee9f-889f247312d5"
   },
   "outputs": [
    {
     "name": "stdout",
     "output_type": "stream",
     "text": [
      "Saved: examples/testing_1/02_plasma_profiles.png\n"
     ]
    },
    {
     "name": "stderr",
     "output_type": "stream",
     "text": [
      "/var/folders/z5/d2ytmy3d2h18qcqwb9v71w2m0000gq/T/ipykernel_36889/373337011.py:10: UserWarning: FigureCanvasAgg is non-interactive, and thus cannot be shown\n",
      "  plt.show()\n"
     ]
    }
   ],
   "source": [
    "fig, ax = plt.subplots(2,1,sharex=True)\n",
    "# Plot F*F'\n",
    "ax[0].plot(ffp_prof['x'],ffp_prof['y'])\n",
    "ax[0].set_ylabel(\"FF'\")\n",
    "# Plot P'\n",
    "ax[1].plot(pp_prof['x'],pp_prof['y'])\n",
    "ax[1].set_ylabel(\"P'\")\n",
    "_ = ax[-1].set_xlabel(r\"$\\hat{\\psi}$\")\n",
    "\n",
    "plt.show()\n",
    "save_figure(fig, \"02_plasma_profiles.png\")\n"
   ]
  },
  {
   "cell_type": "markdown",
   "id": "sK8_vlE6ICLN",
   "metadata": {
    "id": "sK8_vlE6ICLN"
   },
   "source": [
    "### Set shape targets\n",
    "\n",
    "Now we need to tell TokaMaker what the shape of our plasma cross-section will look like. Given that we've already made an array of points defining our plasma, we just need to pass this array to the set_isoflux() method. **You do not need to change this code**."
   ]
  },
  {
   "cell_type": "code",
   "execution_count": 24,
   "id": "NwaXM9HVIELW",
   "metadata": {
    "execution": {
     "iopub.execute_input": "2025-07-02T15:33:46.514149Z",
     "iopub.status.busy": "2025-07-02T15:33:46.513861Z",
     "iopub.status.idle": "2025-07-02T15:33:46.516284Z",
     "shell.execute_reply": "2025-07-02T15:33:46.515966Z"
    },
    "id": "NwaXM9HVIELW"
   },
   "outputs": [],
   "source": [
    "tokamaker.set_isoflux(boundary_pts, weights = 5*np.ones(len(boundary_pts)))"
   ]
  },
  {
   "cell_type": "markdown",
   "id": "1YXcoZqZQpFr",
   "metadata": {
    "id": "1YXcoZqZQpFr"
   },
   "source": [
    "### Set up coil regularization\n",
    "\n",
    "This code segment makes sure that the solver tries to minimize the currents in each coil. **You should not change this code**"
   ]
  },
  {
   "cell_type": "code",
   "execution_count": 25,
   "id": "-1kBxbFmMWdy",
   "metadata": {
    "execution": {
     "iopub.execute_input": "2025-07-02T15:33:46.518049Z",
     "iopub.status.busy": "2025-07-02T15:33:46.517860Z",
     "iopub.status.idle": "2025-07-02T15:33:46.521126Z",
     "shell.execute_reply": "2025-07-02T15:33:46.520733Z"
    },
    "id": "-1kBxbFmMWdy"
   },
   "outputs": [],
   "source": [
    "#### DO NOT CHANGE ####\n",
    "coil_regmat = np.zeros((tokamaker.ncoils+1,tokamaker.ncoils+1), dtype=np.float64)\n",
    "coil_regmat = np.eye(tokamaker.ncoils+1, dtype = np.float64)\n",
    "targets = np.zeros(tokamaker.ncoils+1)\n",
    "weights = 0.1*np.ones(tokamaker.ncoils+1)\n",
    "tokamaker.set_coil_reg(coil_regmat, targets, weights)\n",
    "#### DO NOT CHANGE ####"
   ]
  },
  {
   "cell_type": "markdown",
   "id": "JbTmQMU4L9N4",
   "metadata": {
    "id": "JbTmQMU4L9N4"
   },
   "source": [
    "Now we are ready to solve. **You shouldn't have to edit any of this code.**"
   ]
  },
  {
   "cell_type": "code",
   "execution_count": 26,
   "id": "bkoxsDd6MDWW",
   "metadata": {
    "colab": {
     "base_uri": "https://localhost:8080/"
    },
    "execution": {
     "iopub.execute_input": "2025-07-02T15:33:46.522817Z",
     "iopub.status.busy": "2025-07-02T15:33:46.522694Z",
     "iopub.status.idle": "2025-07-02T15:33:46.710536Z",
     "shell.execute_reply": "2025-07-02T15:33:46.710166Z"
    },
    "executionInfo": {
     "elapsed": 762,
     "status": "ok",
     "timestamp": 1740608402397,
     "user": {
      "displayName": "Sophia Blu Guizzo",
      "userId": "07247402270845785778"
     },
     "user_tz": 300
    },
    "id": "bkoxsDd6MDWW",
    "outputId": "f388ea34-6e09-4c17-b2fd-0ac7915048fa"
   },
   "outputs": [
    {
     "name": "stdout",
     "output_type": "stream",
     "text": [
      "Starting non-linear GS solver\n",
      "     1  6.3563E+00  4.0685E-01  1.9299E-01  4.8967E+00 -4.3116E-04 -0.0000E+00\n",
      "     2  7.4653E+00  4.7701E-01  9.8942E-02  4.9003E+00 -3.2201E-04 -0.0000E+00\n",
      "     3  8.0571E+00  5.1494E-01  5.1895E-02  4.9010E+00 -2.4206E-04 -0.0000E+00\n",
      "     4  8.4035E+00  5.3738E-01  2.9338E-02  4.9011E+00 -2.0175E-04 -0.0000E+00\n",
      "     5  8.6134E+00  5.5108E-01  1.7483E-02  4.9009E+00 -1.7316E-04 -0.0000E+00\n",
      "     6  8.7438E+00  5.5964E-01  1.0710E-02  4.9006E+00 -1.5655E-04 -0.0000E+00\n",
      "     7  8.8247E+00  5.6497E-01  6.6378E-03  4.9005E+00 -1.4745E-04 -0.0000E+00\n",
      "     8  8.8752E+00  5.6831E-01  4.1507E-03  4.9003E+00 -1.2776E-04 -0.0000E+00\n",
      "     9  8.9069E+00  5.7041E-01  2.6000E-03  4.9002E+00 -1.2365E-04 -0.0000E+00\n",
      "    10  8.9267E+00  5.7172E-01  1.6321E-03  4.9002E+00 -1.2087E-04 -0.0000E+00\n",
      "    11  8.9391E+00  5.7255E-01  1.0261E-03  4.9001E+00 -1.1890E-04 -0.0000E+00\n",
      "    12  8.9470E+00  5.7307E-01  6.4527E-04  4.9001E+00 -1.1753E-04 -0.0000E+00\n",
      "    13  8.9519E+00  5.7340E-01  4.0602E-04  4.9001E+00 -1.1658E-04 -0.0000E+00\n",
      "    14  8.9550E+00  5.7361E-01  2.5544E-04  4.9001E+00 -1.1593E-04 -0.0000E+00\n",
      "    15  8.9570E+00  5.7374E-01  1.6079E-04  4.9001E+00 -1.1550E-04 -0.0000E+00\n",
      "    16  8.9582E+00  5.7382E-01  1.0125E-04  4.9001E+00 -1.1520E-04 -0.0000E+00\n",
      "    17  8.9590E+00  5.7387E-01  6.3758E-05  4.9001E+00 -1.1501E-04 -0.0000E+00\n",
      "    18  8.9594E+00  5.7390E-01  4.0160E-05  4.9001E+00 -1.1488E-04 -0.0000E+00\n",
      "    19  8.9598E+00  5.7392E-01  2.5296E-05  4.9000E+00 -1.1479E-04 -0.0000E+00\n",
      "    20  8.9599E+00  5.7394E-01  1.5933E-05  4.9000E+00 -1.1473E-04 -0.0000E+00\n",
      "    21  8.9601E+00  5.7394E-01  1.0036E-05  4.9000E+00 -1.1470E-04 -0.0000E+00\n",
      "    22  8.9601E+00  5.7395E-01  6.3222E-06  4.9000E+00 -1.1467E-04 -0.0000E+00\n",
      "    23  8.9602E+00  5.7395E-01  3.9826E-06  4.9000E+00 -1.1465E-04 -0.0000E+00\n",
      "    24  8.9602E+00  5.7395E-01  2.5089E-06  4.9000E+00 -1.1464E-04 -0.0000E+00\n",
      "    25  8.9602E+00  5.7396E-01  1.5806E-06  4.9000E+00 -1.1464E-04 -0.0000E+00\n",
      "    26  8.9603E+00  5.7396E-01  9.9575E-07  4.9000E+00 -1.1463E-04 -0.0000E+00\n",
      " Timing:  0.15329500008374453     \n",
      "   Source:     5.7196999900043011E-002\n",
      "   Solve:      4.2964000254869461E-002\n",
      "   Boundary:   5.8920008596032858E-003\n",
      "   Other:      4.7241999069228768E-002\n"
     ]
    }
   ],
   "source": [
    "#### DO NOT CHANGE ####\n",
    "tokamaker.init_psi(major_radius,0.0,minor_radius,elongation,triangularity)\n",
    "err_flag = tokamaker.solve()\n",
    "#### DO NOT CHANGE ####"
   ]
  },
  {
   "cell_type": "markdown",
   "id": "EdgQVZ54R3Kr",
   "metadata": {
    "id": "EdgQVZ54R3Kr"
   },
   "source": [
    "### Check for convergence\n",
    "This code prints out err_flag. If it is anything other than 0, the solver has failed."
   ]
  },
  {
   "cell_type": "code",
   "execution_count": 27,
   "id": "Th2nRddPSFvi",
   "metadata": {
    "colab": {
     "base_uri": "https://localhost:8080/"
    },
    "execution": {
     "iopub.execute_input": "2025-07-02T15:33:46.712458Z",
     "iopub.status.busy": "2025-07-02T15:33:46.712301Z",
     "iopub.status.idle": "2025-07-02T15:33:46.731992Z",
     "shell.execute_reply": "2025-07-02T15:33:46.731657Z"
    },
    "executionInfo": {
     "elapsed": 13,
     "status": "ok",
     "timestamp": 1740608402411,
     "user": {
      "displayName": "Sophia Blu Guizzo",
      "userId": "07247402270845785778"
     },
     "user_tz": 300
    },
    "id": "Th2nRddPSFvi",
    "outputId": "0a85384b-1f79-4f6b-bb2d-a69efe9a0603"
   },
   "outputs": [
    {
     "name": "stdout",
     "output_type": "stream",
     "text": [
      "None\n",
      "Equilibrium Statistics:\n",
      "  Topology                =   Limited\n",
      "  Toroidal Current [A]    =    8.0000E+06\n",
      "  Current Centroid [m]    =    4.876 -0.000\n",
      "  Magnetic Axis [m]       =    4.900 -0.000\n",
      "  Elongation              =    1.715 (U:  1.716, L:  1.715)\n",
      "  Triangularity           =   -0.433 (U: -0.432, L: -0.433)\n",
      "  Plasma Volume [m^3]     =   168.668\n",
      "  q_0, q_95               =    1.280  2.948\n",
      "  Peak Pressure [Pa]      =    1.4657E+06\n",
      "  Stored Energy [J]       =    9.8792E+07\n",
      "  <Beta_pol> [%]          =   75.5687\n",
      "  <Beta_tor> [%]          =    0.8155\n",
      "  <Beta_n>   [%]          =    1.1487\n",
      "  Diamagnetic flux [Wb]   =    8.3240E-02\n",
      "  Toroidal flux [Wb]      =    6.0425E+01\n",
      "  l_i                     =    1.0121\n",
      "{'Ip': 7999993.000271447, 'Ip_centroid': array([ 4.87646220e+00, -1.98709599e-06]), 'kappa': np.float64(1.7151993334435267), 'kappaU': np.float64(1.7156990745564007), 'kappaL': np.float64(1.7146995923306525), 'delta': np.float64(-0.43257794391620674), 'deltaU': np.float64(-0.4318112281375407), 'deltaL': np.float64(-0.4333446596948736), 'R_geo': np.float64(4.763048247627427), 'a_geo': np.float64(1.027182254820414), 'vol': 168.66811784101137, 'q_0': np.float64(1.2801828611444062), 'q_95': np.float64(2.9482940101169954), 'P_ax': np.float64(1465720.661883168), 'W_MHD': 98791616.93675931, 'beta_pol': np.float64(75.568725100959), 'dflux': 0.08323995432370192, 'tflux': 60.42496513211805, 'l_i': np.float64(1.012057144499605), 'beta_tor': np.float64(0.8155170918179001), 'beta_n': np.float64(1.148662075827516)}\n"
     ]
    }
   ],
   "source": [
    "print(err_flag)\n",
    "tokamaker.print_info()\n",
    "eq = tokamaker.get_stats()\n",
    "print(eq)"
   ]
  },
  {
   "cell_type": "markdown",
   "id": "r-3PoW2LSKGq",
   "metadata": {
    "id": "r-3PoW2LSKGq"
   },
   "source": [
    "# Analyze equilibrium\n",
    "\n",
    "Now we are ready to analyze our equilibrium and check how it performs against our desired metrics.\n",
    "\n",
    "### Plot equilibrium solution\n",
    "\n",
    "The red crosses correspond to our target plasma boundary. Check if this lines up with the actual plasma boundary. If they are not similar, you may need to adjust your coil positions to create your desired shape.\n",
    "\n",
    "**You do not need to change this code.**\n"
   ]
  },
  {
   "cell_type": "code",
   "execution_count": 28,
   "id": "I6hfS__nNF8s",
   "metadata": {
    "colab": {
     "base_uri": "https://localhost:8080/",
     "height": 522
    },
    "execution": {
     "iopub.execute_input": "2025-07-02T15:33:46.733567Z",
     "iopub.status.busy": "2025-07-02T15:33:46.733464Z",
     "iopub.status.idle": "2025-07-02T15:33:46.909786Z",
     "shell.execute_reply": "2025-07-02T15:33:46.909469Z"
    },
    "executionInfo": {
     "elapsed": 379,
     "status": "ok",
     "timestamp": 1740608402792,
     "user": {
      "displayName": "Sophia Blu Guizzo",
      "userId": "07247402270845785778"
     },
     "user_tz": 300
    },
    "id": "I6hfS__nNF8s",
    "outputId": "079b5a8d-dc09-452d-e40e-0835382a4db5"
   },
   "outputs": [
    {
     "name": "stdout",
     "output_type": "stream",
     "text": [
      "Saved: examples/testing_1/03_initial_equilibrium.png\n"
     ]
    },
    {
     "name": "stderr",
     "output_type": "stream",
     "text": [
      "/var/folders/z5/d2ytmy3d2h18qcqwb9v71w2m0000gq/T/ipykernel_36889/2784647179.py:11: UserWarning: FigureCanvasAgg is non-interactive, and thus cannot be shown\n",
      "  plt.show()\n"
     ]
    }
   ],
   "source": [
    "#### DO NOT CHANGE ####\n",
    "fig, ax = plt.subplots()\n",
    "tokamaker.plot_machine(fig,ax)\n",
    "tokamaker.plot_psi(fig,ax)\n",
    "tokamaker.plot_constraints(fig,ax)\n",
    "\n",
    "ax.set_xlabel('R (m)')\n",
    "ax.set_ylabel('Z (m)')\n",
    "#### DO NOT CHANGE ####\n",
    "\n",
    "plt.show()\n",
    "save_figure(fig, \"03_initial_equilibrium.png\")"
   ]
  },
  {
   "cell_type": "markdown",
   "id": "Mp_HN7itShg2",
   "metadata": {
    "id": "Mp_HN7itShg2"
   },
   "source": [
    "### Print equilibrium statistics\n",
    "\n",
    "TokaMaker has a built-in function to compute a bunch of relevant quantities for an equilibrium. There are a few things you should take note of:\n",
    "\n",
    "1.   Where is the current centroid? Is it close to your desired major radius? If not, you may need to adjust your coil positions to better match the target shape. (Cell 9)\n",
    "2.   What is the elongation? Is it close to your target elongation? If not, you may need to adjust your coil positions to better match the target shape. (Cell 9)\n",
    "3.   What is the triangularity. Is it close to the target triangularity? If not, you may need to adjust your coil positions to better match the target shape. (Cell 9)\n",
    "4.   What is your q_95? Is it less than 2.5? If so, you may need to decrease your target plasma current (Ip) to increase this number.  Is it way above 4? If so, you may want to increase your plasma current to decrease this number. (Cell 19)\n",
    "5. What is your beta_pol? Is it close to your target beta_pol? If not, you might need to adjust your p_core_target. (Cell 19)\n",
    "6. What is your internal inductance(l_i) ? Is it close to your target l_i? If not, you may need to alter the alpha and gamma factors in your FF' and P' profile shapes to alter this number. (Cell 20)\n",
    "\n"
   ]
  },
  {
   "cell_type": "code",
   "execution_count": 29,
   "id": "UBgenPZoSvzs",
   "metadata": {
    "colab": {
     "base_uri": "https://localhost:8080/"
    },
    "execution": {
     "iopub.execute_input": "2025-07-02T15:33:46.911355Z",
     "iopub.status.busy": "2025-07-02T15:33:46.911225Z",
     "iopub.status.idle": "2025-07-02T15:33:46.921995Z",
     "shell.execute_reply": "2025-07-02T15:33:46.921686Z"
    },
    "executionInfo": {
     "elapsed": 29,
     "status": "ok",
     "timestamp": 1740608402816,
     "user": {
      "displayName": "Sophia Blu Guizzo",
      "userId": "07247402270845785778"
     },
     "user_tz": 300
    },
    "id": "UBgenPZoSvzs",
    "outputId": "288dbd66-0540-4315-8681-40b0b158b814"
   },
   "outputs": [
    {
     "data": {
      "text/plain": [
       "{'Ip': 7999993.000271447,\n",
       " 'Ip_centroid': array([ 4.87646220e+00, -1.98709599e-06]),\n",
       " 'kappa': np.float64(1.7151993334435267),\n",
       " 'kappaU': np.float64(1.7156990745564007),\n",
       " 'kappaL': np.float64(1.7146995923306525),\n",
       " 'delta': np.float64(-0.43257794391620674),\n",
       " 'deltaU': np.float64(-0.4318112281375407),\n",
       " 'deltaL': np.float64(-0.4333446596948736),\n",
       " 'R_geo': np.float64(4.763048247627427),\n",
       " 'a_geo': np.float64(1.027182254820414),\n",
       " 'vol': 168.66811784101137,\n",
       " 'q_0': np.float64(1.2801828611444062),\n",
       " 'q_95': np.float64(2.9482940101169954),\n",
       " 'P_ax': np.float64(1465720.661883168),\n",
       " 'W_MHD': 98791616.93675931,\n",
       " 'beta_pol': np.float64(75.568725100959),\n",
       " 'dflux': 0.08323995432370192,\n",
       " 'tflux': 60.42496513211805,\n",
       " 'l_i': np.float64(1.012057144499605),\n",
       " 'beta_tor': np.float64(0.8155170918179001),\n",
       " 'beta_n': np.float64(1.148662075827516)}"
      ]
     },
     "execution_count": 29,
     "metadata": {},
     "output_type": "execute_result"
    }
   ],
   "source": [
    "tokamaker.get_stats()"
   ]
  },
  {
   "cell_type": "markdown",
   "id": "BykHGvZfGBUJ",
   "metadata": {
    "id": "BykHGvZfGBUJ"
   },
   "source": [
    "We can also save all of this equilibrium information in a python dictionary, so we can access it later if needed."
   ]
  },
  {
   "cell_type": "code",
   "execution_count": 30,
   "id": "XVlFSyOAGHBS",
   "metadata": {
    "execution": {
     "iopub.execute_input": "2025-07-02T15:33:46.923666Z",
     "iopub.status.busy": "2025-07-02T15:33:46.923523Z",
     "iopub.status.idle": "2025-07-02T15:33:46.933742Z",
     "shell.execute_reply": "2025-07-02T15:33:46.933421Z"
    },
    "id": "XVlFSyOAGHBS"
   },
   "outputs": [
    {
     "name": "stdout",
     "output_type": "stream",
     "text": [
      "dict_keys(['Ip', 'Ip_centroid', 'kappa', 'kappaU', 'kappaL', 'delta', 'deltaU', 'deltaL', 'R_geo', 'a_geo', 'vol', 'q_0', 'q_95', 'P_ax', 'W_MHD', 'beta_pol', 'dflux', 'tflux', 'l_i', 'beta_tor', 'beta_n'])\n",
      "1.148662075827516\n",
      "75.568725100959\n",
      "0.8155170918179001\n"
     ]
    }
   ],
   "source": [
    "eq_info = tokamaker.get_stats()\n",
    "print(eq_info.keys())\n",
    "print(eq_info[\"beta_n\"])\n",
    "print(eq_info[\"beta_pol\"])\n",
    "print(eq_info[\"beta_tor\"])"
   ]
  },
  {
   "cell_type": "markdown",
   "id": "xQCYiPIZF89k",
   "metadata": {
    "id": "xQCYiPIZF89k"
   },
   "source": [
    "### Plot coil currents\n",
    "\n",
    "For our device to be efficient, we want the currents in our poloidal field coils to be low. Here, we check if our poloidal field coil currents are more than two times the plasma current by plotting our coil currents and the current limit (dashed red line).\n",
    "\n",
    "If any coil has current greater than two times the plasma current, try to adjust your coil positions to reduce their currents. Some things to try:\n",
    "\n",
    "\n",
    "*   Move your coils closer to the plasma (this may require modifying your vacuum vessel)\n",
    "*   Move your coils apart from one another, so they don't have to compete\n",
    "\n"
   ]
  },
  {
   "cell_type": "code",
   "execution_count": 31,
   "id": "Wn4zijQZxq4O",
   "metadata": {
    "colab": {
     "base_uri": "https://localhost:8080/",
     "height": 560
    },
    "execution": {
     "iopub.execute_input": "2025-07-02T15:33:46.935375Z",
     "iopub.status.busy": "2025-07-02T15:33:46.935226Z",
     "iopub.status.idle": "2025-07-02T15:33:47.132165Z",
     "shell.execute_reply": "2025-07-02T15:33:47.131811Z"
    },
    "executionInfo": {
     "elapsed": 618,
     "status": "ok",
     "timestamp": 1740608403504,
     "user": {
      "displayName": "Sophia Blu Guizzo",
      "userId": "07247402270845785778"
     },
     "user_tz": 300
    },
    "id": "Wn4zijQZxq4O",
    "outputId": "47babdd4-c980-48e7-eeaa-de0409d4ea0a"
   },
   "outputs": [
    {
     "name": "stderr",
     "output_type": "stream",
     "text": [
      "/var/folders/z5/d2ytmy3d2h18qcqwb9v71w2m0000gq/T/ipykernel_36889/4287444784.py:16: UserWarning: FigureCanvasAgg is non-interactive, and thus cannot be shown\n",
      "  plt.show()\n"
     ]
    },
    {
     "name": "stdout",
     "output_type": "stream",
     "text": [
      "{'PF_1': np.float64(-1691280.4093849463), 'PF_2': np.float64(-1690813.328029844), 'PF_3': np.float64(1140850.62707465), 'PF_4': np.float64(1139846.2942313638), 'PF_5': np.float64(-1870503.921520415), 'PF_6': np.float64(-1870355.1280032427), 'PF_7': np.float64(-331177.0563966412), 'PF_8': np.float64(-332322.9172698995)}\n"
     ]
    },
    {
     "name": "stdout",
     "output_type": "stream",
     "text": [
      "Saved: examples/testing_1/04_coil_currents.png\n"
     ]
    }
   ],
   "source": [
    "fig,ax = plt.subplots(figsize = (8,6))\n",
    "\n",
    "coil_currents, current_map = tokamaker.get_coil_currents()\n",
    "\n",
    "for i, key in enumerate(coil_dict.keys()):\n",
    "    ax.scatter(key, np.abs(coil_currents[key] / 1E6), color='tab:blue')\n",
    "\n",
    "coil_current_limit = eq_info['Ip']*2\n",
    "ax.hlines(coil_current_limit/1E6, xmin = 0, xmax = len(coil_dict.keys()), color = 'r', linestyle = '--')\n",
    "\n",
    "ax.set_xlabel('Coil name')\n",
    "ax.set_ylabel('Coil current (MA)')\n",
    "\n",
    "print(coil_currents)\n",
    "\n",
    "plt.show()\n",
    "save_figure(fig, \"04_coil_currents.png\")"
   ]
  },
  {
   "cell_type": "markdown",
   "id": "oELjwvf0Lwdy",
   "metadata": {
    "id": "oELjwvf0Lwdy"
   },
   "source": [
    "### Check vertical stability\n",
    "\n",
    "Plasmas in tokamaks with elongation greater than 1 can be susceptible to a \"vertical instability\", where the plasma moves up or down within the vacuum vessel at an exponential rate. Here, we check whether the growth rate of our vertical instability is low enough that it can be prevented with a control system.\n",
    "\n",
    "If the \"feedback capability parameter\" is greater than 2, modify your vacuum vessel to make it closer to the plasma, because the vaccum vessel can help provide vertical stability.\n",
    "\n",
    "**You do not need to change this code.**"
   ]
  },
  {
   "cell_type": "code",
   "execution_count": 32,
   "id": "AS4B0IV6Mah0",
   "metadata": {
    "colab": {
     "base_uri": "https://localhost:8080/"
    },
    "execution": {
     "iopub.execute_input": "2025-07-02T15:33:47.133945Z",
     "iopub.status.busy": "2025-07-02T15:33:47.133793Z",
     "iopub.status.idle": "2025-07-02T15:33:47.800239Z",
     "shell.execute_reply": "2025-07-02T15:33:47.799860Z"
    },
    "executionInfo": {
     "elapsed": 3242,
     "status": "ok",
     "timestamp": 1740608406744,
     "user": {
      "displayName": "Sophia Blu Guizzo",
      "userId": "07247402270845785778"
     },
     "user_tz": 300
    },
    "id": "AS4B0IV6Mah0",
    "outputId": "116f9e04-d6fa-490f-9519-4b9bcf1fc13a"
   },
   "outputs": [
    {
     "name": "stdout",
     "output_type": "stream",
     "text": [
      "Feedback capability parameter: 1.9673539308010533\n"
     ]
    }
   ],
   "source": [
    "#### DO NOT CHANGE ####\n",
    "eig_vals, eig_vecs = tokamaker.eig_td(omega = -1E4, neigs = 10)\n",
    "growth_rate = -eig_vals[0,0]\n",
    "\n",
    "eigval_wall, eigvec_wall = tokamaker.eig_wall()\n",
    "wall_time = 1/eigval_wall[1,0]\n",
    "\n",
    "feedback_capability_param = growth_rate*wall_time\n",
    "print('Feedback capability parameter: ' + str(feedback_capability_param))\n",
    "#### DO NOT CHANGE ####"
   ]
  },
  {
   "cell_type": "markdown",
   "id": "e0853aa4",
   "metadata": {},
   "source": [
    "# Calculating Vertical stability in CUTE \n",
    "\n",
    "In the following section, we will:\n",
    "1) Study vertical plasma stability in elongated tokamak plasmas\n",
    "2) Analyze Vertical Displacement Events (VDEs) - dangerous instabilities where the plasma moves vertically and can damage the vessel\n",
    "3) Perform both linear and nonlinear analysis of plasma instabilities\n",
    "\n",
    "To reduce output, we update settings to disable \"performance monitoring\" (eg. solver progress)."
   ]
  },
  {
   "cell_type": "code",
   "execution_count": 33,
   "id": "af5d5528",
   "metadata": {
    "execution": {
     "iopub.execute_input": "2025-07-02T15:33:47.801986Z",
     "iopub.status.busy": "2025-07-02T15:33:47.801828Z",
     "iopub.status.idle": "2025-07-02T15:33:47.812133Z",
     "shell.execute_reply": "2025-07-02T15:33:47.811819Z"
    }
   },
   "outputs": [
    {
     "name": "stdout",
     "output_type": "stream",
     "text": [
      "Equilibrium Statistics:\n",
      "  Topology                =   Limited\n",
      "  Toroidal Current [A]    =    8.0000E+06\n",
      "  Current Centroid [m]    =    4.876 -0.000\n",
      "  Magnetic Axis [m]       =    4.900 -0.000\n",
      "  Elongation              =    1.715 (U:  1.716, L:  1.715)\n",
      "  Triangularity           =   -0.432 (U: -0.433, L: -0.431)\n",
      "  Plasma Volume [m^3]     =   168.668\n",
      "  q_0, q_95               =    1.280  2.948\n",
      "  Peak Pressure [Pa]      =    1.4657E+06\n",
      "  Stored Energy [J]       =    9.8792E+07\n",
      "  <Beta_pol> [%]          =   75.5056\n",
      "  <Beta_tor> [%]          =    0.8155\n",
      "  <Beta_n>   [%]          =    1.1487\n",
      "  Diamagnetic flux [Wb]   =    8.3240E-02\n",
      "  Toroidal flux [Wb]      =    6.0425E+01\n",
      "  l_i                     =    1.0112\n"
     ]
    }
   ],
   "source": [
    "tokamaker.settings.pm=False\n",
    "tokamaker.update_settings()\n",
    "\n",
    "tokamaker.print_info()"
   ]
  },
  {
   "cell_type": "markdown",
   "id": "61c74eb2",
   "metadata": {},
   "source": [
    "### Compute linear stability as a function of $\\beta_p$\n",
    "Now we perform a scan of $\\beta_p$, computing the linear stability properties of the equilibrium at each point. We do this by looping over desired values of $\\beta_p$ and performing the following steps at each point:\n",
    "\n",
    " 1. Compute the desired equilibrium by\n",
    "   1. Set the shape constraints (needed as we remove them in step 3)\n",
    "   2. Re-initialize $\\psi$ (needed as we evolve far from the initial equilibrium in step 3)\n",
    "   3. Solve for the equilibrium, with a few iterations to converge the desired $\\beta_p$\n",
    " 2. Compute linear stability using \\ref OpenFUSIONToolkit.TokaMaker.eig_td() \"eig_td()\"\n",
    "   1. Save most unstable mode and growth rate\n",
    " 3. Compute nonlinear evolution of a perturbed equilibrium\n",
    "   1. Set the initial condition by adding a small contribution from the most unstable linear mode\n",
    "   2. Remove saddle and isoflux constraints\n",
    "   3. Setup the time-dependent solver\n",
    "   4. Loop over 30 timesteps with a timestep determined by the linear growth rate, saving the equilibrium and vertical position at each time"
   ]
  },
  {
   "cell_type": "code",
   "execution_count": 34,
   "id": "d39ec072",
   "metadata": {
    "execution": {
     "iopub.execute_input": "2025-07-02T15:33:47.813802Z",
     "iopub.status.busy": "2025-07-02T15:33:47.813657Z",
     "iopub.status.idle": "2025-07-02T15:34:57.611665Z",
     "shell.execute_reply": "2025-07-02T15:34:57.610792Z"
    }
   },
   "outputs": [
    {
     "name": "stdout",
     "output_type": "stream",
     "text": [
      "Computing Beta_approx [%] 1.00\n"
     ]
    },
    {
     "name": "stdout",
     "output_type": "stream",
     "text": [
      "  Actual Beta_p = 1.00\n"
     ]
    },
    {
     "name": "stdout",
     "output_type": "stream",
     "text": [
      "Computing Beta_approx [%] 6.44\n"
     ]
    },
    {
     "name": "stdout",
     "output_type": "stream",
     "text": [
      "  Actual Beta_p = 6.46\n"
     ]
    },
    {
     "name": "stdout",
     "output_type": "stream",
     "text": [
      "Computing Beta_approx [%] 11.89\n"
     ]
    },
    {
     "name": "stdout",
     "output_type": "stream",
     "text": [
      "  Actual Beta_p = 11.90\n"
     ]
    },
    {
     "name": "stdout",
     "output_type": "stream",
     "text": [
      "Computing Beta_approx [%] 17.33\n"
     ]
    },
    {
     "name": "stdout",
     "output_type": "stream",
     "text": [
      "  Actual Beta_p = 17.32\n"
     ]
    },
    {
     "name": "stdout",
     "output_type": "stream",
     "text": [
      "Computing Beta_approx [%] 22.78\n"
     ]
    },
    {
     "name": "stdout",
     "output_type": "stream",
     "text": [
      "  Actual Beta_p = 22.75\n"
     ]
    },
    {
     "name": "stdout",
     "output_type": "stream",
     "text": [
      "Computing Beta_approx [%] 28.22\n"
     ]
    },
    {
     "name": "stdout",
     "output_type": "stream",
     "text": [
      "  Actual Beta_p = 28.30\n"
     ]
    },
    {
     "name": "stdout",
     "output_type": "stream",
     "text": [
      "Computing Beta_approx [%] 33.67\n"
     ]
    },
    {
     "name": "stdout",
     "output_type": "stream",
     "text": [
      "  Actual Beta_p = 33.73\n"
     ]
    },
    {
     "name": "stdout",
     "output_type": "stream",
     "text": [
      "Computing Beta_approx [%] 39.11\n"
     ]
    },
    {
     "name": "stdout",
     "output_type": "stream",
     "text": [
      "  Actual Beta_p = 39.13\n"
     ]
    },
    {
     "name": "stdout",
     "output_type": "stream",
     "text": [
      "Computing Beta_approx [%] 44.56\n"
     ]
    },
    {
     "name": "stdout",
     "output_type": "stream",
     "text": [
      "  Actual Beta_p = 44.62\n"
     ]
    },
    {
     "name": "stdout",
     "output_type": "stream",
     "text": [
      "Computing Beta_approx [%] 50.00\n"
     ]
    },
    {
     "name": "stdout",
     "output_type": "stream",
     "text": [
      "  Actual Beta_p = 50.04\n"
     ]
    }
   ],
   "source": [
    "growth = []\n",
    "beta_p = []\n",
    "modes = []\n",
    "zhist = []\n",
    "beta_scale = 1.0\n",
    "\n",
    "for beta_target in np.linspace(0.01,0.5,10): # how do you find the range???\n",
    "    print('Computing Beta_approx [%] {0:.2f}'.format(beta_target*100.0))\n",
    "    # Compute new equilibrium\n",
    "    tokamaker.init_psi(major_radius,0.0,minor_radius,elongation,triangularity)\n",
    "    beta_approx = beta_target*beta_scale\n",
    "\n",
    "    for i in range(4):\n",
    "        tokamaker.set_targets(Ip=Ip_target,Ip_ratio=(1.0/beta_approx - 1.0))\n",
    "        tokamaker.solve()\n",
    "        beta_approx *= beta_target/tokamaker.get_stats()['beta_pol']*100.0\n",
    "    beta_scale = beta_approx/beta_target\n",
    "    beta_p.append(tokamaker.get_stats()['beta_pol'])\n",
    "    print('  Actual Beta_p = {0:.2f}'.format(beta_p[-1]))\n",
    "    psi0 = tokamaker.get_psi(False)\n",
    "    # Compute linear stability\n",
    "    eig_vals, eig_vecs = tokamaker.eig_td(-1.E5,10,False)\n",
    "    eig_sign = eig_vecs[0,tokamaker.r[:,1]>0.0][abs(eig_vecs[0,tokamaker.r[:,1]>0.0]).argmax()]\n",
    "    modes.append(eig_vecs[0,:]*eig_sign)\n",
    "    growth.append(eig_vals[0,0])\n",
    "    # Compute nonlinear evolution\n",
    "    psi_ic = psi0-0.01*eig_vecs[0,:]*(tokamaker.psi_bounds[1]-tokamaker.psi_bounds[0])/eig_sign\n",
    "    tokamaker.set_psi(psi_ic)\n",
    "    dt = 0.2/abs(eig_vals[0,0])\n",
    "    tokamaker.setup_td(dt,1.E-13,1.E-11)\n",
    "    sim_time = 0.0\n",
    "    results = []\n",
    "    z0 = [[sim_time,tokamaker.o_point[1]],]\n",
    "    for i in range(30):\n",
    "        sim_time, _, nl_its, lin_its, nretry = tokamaker.step_td(sim_time,dt)\n",
    "        assert nretry >= 0\n",
    "        z0.append([sim_time,tokamaker.o_point[1]])\n",
    "        results.append(tokamaker.get_psi())\n",
    "    zhist.append(z0)\n"
   ]
  },
  {
   "cell_type": "markdown",
   "id": "c38904ba",
   "metadata": {},
   "source": [
    "### Plot growth rate trend\n",
    "Once complete, we can plot the trend in the growth rate, which shows a decreasing growth rate for the vertical instability with increasing $\\beta_p$."
   ]
  },
  {
   "cell_type": "code",
   "execution_count": 35,
   "id": "5855697d",
   "metadata": {
    "execution": {
     "iopub.execute_input": "2025-07-02T15:34:57.615787Z",
     "iopub.status.busy": "2025-07-02T15:34:57.615537Z",
     "iopub.status.idle": "2025-07-02T15:34:57.741695Z",
     "shell.execute_reply": "2025-07-02T15:34:57.741348Z"
    }
   },
   "outputs": [
    {
     "name": "stdout",
     "output_type": "stream",
     "text": [
      "Saved: examples/testing_1/05_growth_rate_vs_beta_p.png\n"
     ]
    }
   ],
   "source": [
    "fig, ax = plt.subplots(1,1)\n",
    "ax.plot(beta_p,growth)\n",
    "ax.set_ylim(top=0.0)\n",
    "ax.grid(True)\n",
    "ax.set_ylabel(r'$\\gamma$ [1/s]')\n",
    "_ = ax.set_xlabel(r'$\\beta_p$ [%]')\n",
    "\n",
    "save_figure(fig, \"05_growth_rate_vs_beta_p.png\")\n"
   ]
  },
  {
   "cell_type": "markdown",
   "id": "ec0c90d2",
   "metadata": {},
   "source": [
    "### Plot linear eigenmodes\n",
    "\n",
    "To better understand why this trend occurs, we can plot the linearly unstable mode structure as a function of $\\beta_p$. From this we can see that as $\\beta_p$ increases the mode structure shifts outboard and more of the perturbed flux (relative to the peak value) interacts with the wall. As the resistivity of the wall is what sets the timescale in a time-dependent Grad-Shafranov model, this explains the decrease in growth rate as as higher $\\beta_p$ more flux must move through the wall (via resisitive diffusion) for the same growth in amplitude."
   ]
  },
  {
   "cell_type": "code",
   "execution_count": 36,
   "id": "2aac9228",
   "metadata": {
    "execution": {
     "iopub.execute_input": "2025-07-02T15:34:57.743532Z",
     "iopub.status.busy": "2025-07-02T15:34:57.743380Z",
     "iopub.status.idle": "2025-07-02T15:34:59.416059Z",
     "shell.execute_reply": "2025-07-02T15:34:59.415741Z"
    }
   },
   "outputs": [
    {
     "name": "stdout",
     "output_type": "stream",
     "text": [
      "Saved: examples/testing_1/06_mode_structures_different_beta_p.png\n"
     ]
    }
   ],
   "source": [
    "import matplotlib as mpl\n",
    "\n",
    "norm = mpl.colors.Normalize(vmin=beta_p[0], vmax=beta_p[-1])\n",
    "scalarMap = mpl.cm.ScalarMappable(norm=norm, cmap=plt.cm.viridis)\n",
    "\n",
    "fig, ax = plt.subplots(1,4,sharey=True,constrained_layout=True,figsize=(8,4))\n",
    "for ax_tmp in ax:\n",
    "    tokamaker.plot_machine(fig,ax_tmp,limiter_color=None)\n",
    "for j, i in enumerate((0,3,6,9)): # 0,3,6,9\n",
    "    colorVal = scalarMap.to_rgba(beta_p[i])\n",
    "    tokamaker.plot_psi(fig,ax[j],psi=modes[i],plasma_nlevels=6,normalized=False,plasma_color=[colorVal],opoint_color=None,xpoint_color=None,vacuum_nlevels=0)\n",
    "    tokamaker.plot_eddy(fig,ax[j],dpsi_dt=modes[i]*abs(growth[i]),colormap='seismic',symmap=True,clabel=None)\n",
    "for ax_tmp in ax:\n",
    "    ax_tmp.set_xlabel(r'R [m]')\n",
    "ax[0].set_ylabel(r'Z [m]')\n",
    "_ = fig.colorbar(scalarMap,ax=ax[:],label=r'$\\beta_p$ [%]')\n",
    "\n",
    "save_figure(fig, \"06_mode_structures_different_beta_p.png\")"
   ]
  },
  {
   "cell_type": "markdown",
   "id": "84162b8b",
   "metadata": {},
   "source": [
    "### Plot nonlinear plasma evolution\n",
    "We can also plot the evolution of the vertical position of the magnetic axis from the nonlinear evolution of each of the points in the $\\beta_p$ scan. This shows the same behavior as the linear study (as expected of course), where the growth rate (velocity of the vertical position) decreases with increasing $\\beta_p$. Additionally, clear linear (straight line on a log plot) and nonlinear phases are visible for each case."
   ]
  },
  {
   "cell_type": "code",
   "execution_count": 37,
   "id": "a6dc5a2c",
   "metadata": {
    "execution": {
     "iopub.execute_input": "2025-07-02T15:34:59.417883Z",
     "iopub.status.busy": "2025-07-02T15:34:59.417659Z",
     "iopub.status.idle": "2025-07-02T15:34:59.620089Z",
     "shell.execute_reply": "2025-07-02T15:34:59.619734Z"
    }
   },
   "outputs": [
    {
     "name": "stdout",
     "output_type": "stream",
     "text": [
      "Saved: examples/testing_1/07_nonlinear_plasma_evolution.png\n"
     ]
    }
   ],
   "source": [
    "fig, ax = plt.subplots(1,1)\n",
    "for i, z0 in enumerate(zhist):\n",
    "    z_hist = np.asarray(z0); z_hist = z_hist[1:,:] - [z_hist[1,0], z_hist[0,1]]\n",
    "    colorVal = scalarMap.to_rgba(beta_p[i])\n",
    "    ax.semilogy(z_hist[:,0]*1.E3,abs(z_hist[:,1]),color=colorVal)\n",
    "ax.grid(True)\n",
    "ax.set_ylabel(r'$|\\Delta Z_0|$ [m]')\n",
    "ax.set_xlabel(r'Time [ms]')\n",
    "_ = fig.colorbar(scalarMap,ax=ax,label=r'$\\beta_p$ [%]')\n",
    "\n",
    "save_figure(fig, \"07_nonlinear_plasma_evolution.png\")\n"
   ]
  },
  {
   "cell_type": "markdown",
   "id": "e395b2e9",
   "metadata": {},
   "source": [
    "### Plasma Evolution During Vertical Displacement Event\n",
    "\n",
    "We can visualize the time evolution of plasma flux surfaces during a vertical displacement event. Let's plots multiple plasma equilibria at different time steps, color-coded from the simulation time sequence, showing how the plasma shape and position change as the VDE progresses. The colorbar indicates the time progression in milliseconds, allowing you to see the plasma's vertical movement and deformation over the course of the instability."
   ]
  },
  {
   "cell_type": "code",
   "execution_count": 38,
   "id": "1a5bb67f",
   "metadata": {
    "execution": {
     "iopub.execute_input": "2025-07-02T15:34:59.621922Z",
     "iopub.status.busy": "2025-07-02T15:34:59.621690Z",
     "iopub.status.idle": "2025-07-02T15:35:00.304639Z",
     "shell.execute_reply": "2025-07-02T15:35:00.304304Z"
    }
   },
   "outputs": [
    {
     "name": "stdout",
     "output_type": "stream",
     "text": [
      "Saved: examples/testing_1/08_vde_evolution.png\n"
     ]
    }
   ],
   "source": [
    "fig, ax = plt.subplots(constrained_layout=True,figsize=(8,5))\n",
    "tokamaker.plot_machine(fig,ax)\n",
    "colors = plt.cm.jet(np.linspace(0,1,len(results)))\n",
    "for i, result in enumerate(results):\n",
    "    tokamaker.plot_psi(fig,ax,psi=result,plasma_nlevels=1,plasma_color=[colors[i]], vacuum_nlevels = 0,xpoint_color=None,opoint_color=None)\n",
    "norm = mpl.colors.Normalize(vmin=0.0, vmax=sim_time*1.E3)\n",
    "colors = plt.cm.jet(np.linspace(0,1,len(results)))\n",
    "\n",
    "norm = mpl.colors.Normalize(vmin=0.0, vmax=sim_time*1.E3)\n",
    "_ = fig.colorbar(mpl.cm.ScalarMappable(norm=norm, cmap=plt.cm.jet),ax=ax,label='Time [ms]')\n",
    "\n",
    "save_figure(fig, \"08_vde_evolution.png\")\n"
   ]
  },
  {
   "cell_type": "code",
   "execution_count": 39,
   "id": "0decad12",
   "metadata": {
    "execution": {
     "iopub.execute_input": "2025-07-02T15:35:00.306772Z",
     "iopub.status.busy": "2025-07-02T15:35:00.306469Z",
     "iopub.status.idle": "2025-07-02T15:35:11.861693Z",
     "shell.execute_reply": "2025-07-02T15:35:11.861056Z"
    }
   },
   "outputs": [
    {
     "name": "stdout",
     "output_type": "stream",
     "text": [
      "Saved VDE animation: examples/testing_1/09_vde_evolution.gif\n"
     ]
    }
   ],
   "source": [
    "import matplotlib.animation\n",
    "from matplotlib.ticker import FuncFormatter\n",
    "from IPython.display import HTML\n",
    "plt.rcParams['savefig.dpi'] = 100\n",
    "plt.rcParams['animation.embed_limit'] = 1.E8\n",
    "\n",
    "plt.rcParams['lines.linewidth']=3\n",
    "fig, ax = plt.subplots(figsize=(16,10))\n",
    "times = np.linspace(0,sim_time, len(results))*1000\n",
    "def animate(i):\n",
    "    ax.clear()\n",
    "    tokamaker.plot_machine(fig,ax)\n",
    "    tokamaker.plot_psi(fig,ax,psi=results[i],plasma_nlevels=8,plasma_colormap= 'magma', vacuum_nlevels = 6,xpoint_color=None,opoint_color=None)\n",
    "    ax.text(0.45, 0.72, f\"{times[i]:.2f}\"+' ms', color = 'k', fontsize = 18)\n",
    "    ax.set_xlabel('R (m)', fontsize = 14)\n",
    "    ax.set_ylabel('Z (m)', fontsize = 14)\n",
    "    ax.set_ylim(-3.2, 3.2)\n",
    "\n",
    "ani = matplotlib.animation.FuncAnimation(fig, animate, frames=len(results))\n",
    "\n",
    "HTML(ani.to_jshtml())\n",
    "\n",
    "# Save as GIF\n",
    "writer = matplotlib.animation.PillowWriter(fps=5,\n",
    "                                 metadata=dict(artist='Sophia Guizzo'),\n",
    "                                 bitrate=1800)\n",
    "\n",
    "# Save to simulation folder with user-defined name\n",
    "gif_filename = \"09_vde_evolution.gif\"\n",
    "gif_path = os.path.join(simulation_folder, gif_filename)\n",
    "ani.save(gif_path, writer=writer)\n",
    "print(f\"Saved VDE animation: {gif_path}\")"
   ]
  },
  {
   "cell_type": "code",
   "execution_count": 40,
   "id": "bc1a5c13",
   "metadata": {
    "execution": {
     "iopub.execute_input": "2025-07-02T15:35:11.865221Z",
     "iopub.status.busy": "2025-07-02T15:35:11.865018Z",
     "iopub.status.idle": "2025-07-02T15:35:11.868880Z",
     "shell.execute_reply": "2025-07-02T15:35:11.868562Z"
    }
   },
   "outputs": [
    {
     "name": "stdout",
     "output_type": "stream",
     "text": [
      "\n",
      "==================================================\n",
      "SIMULATION COMPLETE\n",
      "==================================================\n",
      "All files saved to: examples/testing_1\n",
      "\n",
      "Generated files:\n",
      "  - 07_nonlinear_plasma_evolution.png\n",
      "  - design_20250702_113339.json\n",
      "  - 06_mode_structures_different_beta_p.png\n",
      "  - 04_coil_currents.png\n",
      "  - 08_vde_evolution.png\n",
      "  - 05_growth_rate_vs_beta_p.png\n",
      "  - 02_plasma_profiles.png\n",
      "  - 01_vacuum_vessel_design.png\n",
      "  - 03_initial_equilibrium.png\n",
      "  - 09_vde_evolution.gif\n",
      "==================================================\n"
     ]
    }
   ],
   "source": [
    "# Final summary\n",
    "print(\"\\n\" + \"=\"*50)\n",
    "print(\"SIMULATION COMPLETE\")\n",
    "print(\"=\"*50)\n",
    "print(f\"All files saved to: {simulation_folder}\")\n",
    "print(\"\\nGenerated files:\")\n",
    "for file in os.listdir(simulation_folder):\n",
    "    print(f\"  - {file}\")\n",
    "print(\"=\"*50)"
   ]
  }
 ],
 "metadata": {
  "colab": {
   "provenance": [
    {
     "file_id": "https://github.com/OpenFUSIONToolkit/OpenFUSIONToolkit-Tutorials/blob/main/PPPL_SULI-2024/ex2-free_boundary-Complete.ipynb",
     "timestamp": 1736186381838
    }
   ]
  },
  "kernelspec": {
   "display_name": "Python 3 (ipykernel)",
   "language": "python",
   "name": "python3"
  },
  "language_info": {
   "codemirror_mode": {
    "name": "ipython",
    "version": 3
   },
   "file_extension": ".py",
   "mimetype": "text/x-python",
   "name": "python",
   "nbconvert_exporter": "python",
   "pygments_lexer": "ipython3",
   "version": "3.11.13"
  }
 },
 "nbformat": 4,
 "nbformat_minor": 5
}
