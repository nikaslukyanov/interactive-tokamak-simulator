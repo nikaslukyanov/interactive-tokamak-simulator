{
 "cells": [
  {
   "cell_type": "markdown",
   "id": "fSM3fo13JwBY",
   "metadata": {
    "id": "fSM3fo13JwBY"
   },
   "source": [
    "# Setup environment\n",
    "\n",
    "###Load TokaMaker and helpful python packages\n",
    "In this code segment, we import several helpful python packages and load in the TokaMaker code from GitHub. Default plotting values are also set here to make things more legible on most platforms. We also define a resize_polygon function which is helpful for defining geometries later on. **You do not need to change this code.**"
   ]
  },
  {
   "cell_type": "code",
   "execution_count": 1,
   "id": "t8DiCJlQJ10x",
   "metadata": {
    "execution": {
     "iopub.execute_input": "2025-06-27T19:49:07.375713Z",
     "iopub.status.busy": "2025-06-27T19:49:07.375397Z",
     "iopub.status.idle": "2025-06-27T19:49:08.337897Z",
     "shell.execute_reply": "2025-06-27T19:49:08.337315Z"
    },
    "id": "t8DiCJlQJ10x"
   },
   "outputs": [],
   "source": [
    "import os\n",
    "import sys\n",
    "import numpy as np\n",
    "import matplotlib.pyplot as plt\n",
    "from datetime import datetime\n",
    "\n",
    "plt.rcParams['figure.figsize']=(6,6)\n",
    "plt.rcParams['font.weight']='bold'\n",
    "plt.rcParams['axes.labelweight']='bold'\n",
    "plt.rcParams['lines.linewidth']=2\n",
    "plt.rcParams['lines.markeredgewidth']=2"
   ]
  },
  {
   "cell_type": "code",
   "execution_count": 2,
   "id": "4ffed57a",
   "metadata": {
    "execution": {
     "iopub.execute_input": "2025-06-27T19:49:08.345311Z",
     "iopub.status.busy": "2025-06-27T19:49:08.344802Z",
     "iopub.status.idle": "2025-06-27T19:49:08.350206Z",
     "shell.execute_reply": "2025-06-27T19:49:08.349357Z"
    }
   },
   "outputs": [],
   "source": [
    "# Get the home directory dynamically\n",
    "home_dir = os.path.expanduser(\"~\")\n",
    "\n",
    "# Construct the path dynamically\n",
    "oft_root_path = os.path.join(home_dir, \"OpenFUSIONToolkit/install_release\")\n",
    "\n",
    "# Set the environment variable\n",
    "os.environ[\"OFT_ROOTPATH\"] = oft_root_path\n",
    "\n",
    "# Append to sys.path\n",
    "tokamaker_python_path = os.getenv(\"OFT_ROOTPATH\")\n",
    "if tokamaker_python_path is not None:\n",
    "    sys.path.append(os.path.join(tokamaker_python_path, \"python\"))\n"
   ]
  },
  {
   "cell_type": "code",
   "execution_count": 3,
   "id": "I6fC9zTlMj4h",
   "metadata": {
    "execution": {
     "iopub.execute_input": "2025-06-27T19:49:08.354096Z",
     "iopub.status.busy": "2025-06-27T19:49:08.353621Z",
     "iopub.status.idle": "2025-06-27T19:49:08.518260Z",
     "shell.execute_reply": "2025-06-27T19:49:08.517675Z"
    },
    "id": "I6fC9zTlMj4h"
   },
   "outputs": [],
   "source": [
    "from OpenFUSIONToolkit import OFT_env\n",
    "from OpenFUSIONToolkit.TokaMaker import TokaMaker\n",
    "from OpenFUSIONToolkit.TokaMaker.meshing import gs_Domain, save_gs_mesh, load_gs_mesh\n",
    "from OpenFUSIONToolkit.TokaMaker.util import create_isoflux, create_power_flux_fun"
   ]
  },
  {
   "cell_type": "code",
   "execution_count": 4,
   "id": "-r8HlWIUUj1k",
   "metadata": {
    "execution": {
     "iopub.execute_input": "2025-06-27T19:49:08.521004Z",
     "iopub.status.busy": "2025-06-27T19:49:08.520740Z",
     "iopub.status.idle": "2025-06-27T19:49:08.528222Z",
     "shell.execute_reply": "2025-06-27T19:49:08.527419Z"
    },
    "id": "-r8HlWIUUj1k"
   },
   "outputs": [],
   "source": [
    "def resize_polygon(points, dx):\n",
    "    new_points = np.empty(np.shape(points))\n",
    "    for i in range(np.shape(points)[0]):\n",
    "        if i==0:\n",
    "            last = points[-1,:]\n",
    "            next = points[i+1,:]\n",
    "        elif i == np.shape(points)[0]-1:\n",
    "            last = points[i-1,:]\n",
    "            next = points[0,:]\n",
    "        else:\n",
    "            next = points[i+1,:]\n",
    "            last = points[i-1,:]\n",
    "        par = points[i,:]-last\n",
    "        par/= np.linalg.norm(par)\n",
    "        perp = np.array([par[1], -par[0]])\n",
    "        temp = points[i,:] + perp*dx\n",
    "        par_2 = next-points[i,:]\n",
    "        par_2/= np.linalg.norm(par_2)\n",
    "        perp_2 = [par_2[1], -par_2[0]]\n",
    "        new_points[i, :] = temp + dx/np.dot(perp_2,par)*par  + par*dx/np.dot(par_2,perp)*np.dot(par_2,par)\n",
    "    return new_points"
   ]
  },
  {
   "cell_type": "code",
   "execution_count": 5,
   "id": "6ea829de",
   "metadata": {
    "execution": {
     "iopub.execute_input": "2025-06-27T19:49:08.531249Z",
     "iopub.status.busy": "2025-06-27T19:49:08.530810Z",
     "iopub.status.idle": "2025-06-27T19:49:08.537433Z",
     "shell.execute_reply": "2025-06-27T19:49:08.536825Z"
    }
   },
   "outputs": [
    {
     "name": "stdout",
     "output_type": "stream",
     "text": [
      "Using folder name: testing_1\n",
      "Created simulation folder: examples/testing_1\n"
     ]
    }
   ],
   "source": [
    "import json\n",
    "import glob\n",
    "import os\n",
    "from datetime import datetime\n",
    "\n",
    "# Create examples directory if it doesn't exist\n",
    "examples_dir = \"examples\"\n",
    "if not os.path.exists(examples_dir):\n",
    "    os.makedirs(examples_dir)\n",
    "    print(f\"Created {examples_dir} directory\")\n",
    "\n",
    "# For testing, just use a simple folder name\n",
    "folder_name = \"testing_1\"\n",
    "print(f\"Using folder name: {folder_name}\")\n",
    "\n",
    "# Create the simulation folder (no timestamp for simplicity)\n",
    "simulation_folder = os.path.join(examples_dir, folder_name)\n",
    "\n",
    "# Create the simulation folder\n",
    "os.makedirs(simulation_folder, exist_ok=True)\n",
    "print(f\"Created simulation folder: {simulation_folder}\")\n",
    "\n",
    "# Function to save figures\n",
    "def save_figure(fig, filename, folder=simulation_folder):\n",
    "    \"\"\"Save figure to the simulation folder\"\"\"\n",
    "    filepath = os.path.join(folder, filename)\n",
    "    fig.savefig(filepath, dpi=300, bbox_inches='tight')\n",
    "    print(f\"Saved: {filepath}\")"
   ]
  },
  {
   "cell_type": "markdown",
   "id": "19iylESyK1IA",
   "metadata": {
    "id": "19iylESyK1IA"
   },
   "source": [
    "# Setup device geometry\n",
    "First, we need to tell TokaMaker what our tokamak should look like!"
   ]
  },
  {
   "cell_type": "markdown",
   "id": "mVBu459dLCPH",
   "metadata": {
    "id": "mVBu459dLCPH"
   },
   "source": [
    "### Set mesh resolution\n",
    "TokaMaker solves the Grad-Shafranov equation on a computational mesh. The finer the mesh is, the more accurate the solution will be. However, a finer mesh also decreases the speed of the solver. Here, we set a default resolution for the mesh in each domain. **You do not need to change these values.**"
   ]
  },
  {
   "cell_type": "code",
   "execution_count": 6,
   "id": "QxiafR17LqaR",
   "metadata": {
    "execution": {
     "iopub.execute_input": "2025-06-27T19:49:08.541010Z",
     "iopub.status.busy": "2025-06-27T19:49:08.540767Z",
     "iopub.status.idle": "2025-06-27T19:49:08.543936Z",
     "shell.execute_reply": "2025-06-27T19:49:08.543396Z"
    },
    "id": "QxiafR17LqaR"
   },
   "outputs": [],
   "source": [
    "#### DO NOT CHANGE ####\n",
    "plasma_dx = 0.15\n",
    "coil_dx = 0.15\n",
    "vv_dx = 0.15\n",
    "vac_dx = 0.25\n",
    "#### DO NOT CHANGE ####"
   ]
  },
  {
   "cell_type": "markdown",
   "id": "Bc1EVaaIN_1s",
   "metadata": {
    "id": "Bc1EVaaIN_1s"
   },
   "source": [
    "### Specify the geometry of the vacuum vessel\n",
    "\n",
    "We need to decide on the shape of our vacuum vessel. We want to design a vacuum vessel that will fit our desired plasma shape. To visualize what our plasma looks like, we can use several quantities on your list of targets, including major radius, minor radius, elongation, and triangularity. Modify these quantities to correspond to your targets\n",
    "\n"
   ]
  },
  {
   "cell_type": "code",
   "execution_count": 7,
   "id": "GvYy3XE621tq",
   "metadata": {
    "execution": {
     "iopub.execute_input": "2025-06-27T19:49:08.546436Z",
     "iopub.status.busy": "2025-06-27T19:49:08.546276Z",
     "iopub.status.idle": "2025-06-27T19:49:08.552685Z",
     "shell.execute_reply": "2025-06-27T19:49:08.552182Z"
    },
    "id": "GvYy3XE621tq"
   },
   "outputs": [
    {
     "name": "stdout",
     "output_type": "stream",
     "text": [
      "Loaded data from: examples/testing_1/design_20250627_154858.json\n",
      "major_radius: 4.8, minor_radius: 0.85, elongation: 1.8, triangularity: -0.8\n"
     ]
    }
   ],
   "source": [
    "'''\n",
    "major_radius = 4.55\n",
    "minor_radius = 1.2\n",
    "elongation = 1.4\n",
    "triangularity =  -0.5\n",
    "'''\n",
    "\n",
    "# Find all JSON files in the directory\n",
    "json_files = glob.glob('examples/testing_1/*.json')\n",
    "\n",
    "if json_files:\n",
    "    # Sort to get the most recent file (if you want the latest)\n",
    "    json_files.sort(reverse=True)\n",
    "    latest_file = json_files[0]\n",
    "    \n",
    "    # Now open the specific file\n",
    "    with open(latest_file, 'r') as f:\n",
    "        design_data = json.load(f)\n",
    "        print(f\"Loaded data from: {latest_file}\")\n",
    "        major_radius = design_data['plasma_parameters']['major_radius']\n",
    "        minor_radius = design_data['plasma_parameters']['minor_radius']\n",
    "        elongation = design_data['plasma_parameters']['elongation']\n",
    "        triangularity = design_data['plasma_parameters']['triangularity']\n",
    "        print(f\"major_radius: {major_radius}, minor_radius: {minor_radius}, elongation: {elongation}, triangularity: {triangularity}\")\n",
    "else:\n",
    "    print(\"No JSON files found\")\n",
    "\n",
    "boundary_pts = create_isoflux(30,major_radius,0.0,minor_radius,elongation,triangularity)"
   ]
  },
  {
   "cell_type": "markdown",
   "id": "TjdxKZCA3wRP",
   "metadata": {
    "id": "TjdxKZCA3wRP"
   },
   "source": [
    "Now, we have to decide the shape of our vacuum vessel cross-section. We do this by defining an array of (R,Z) coordinates for the vacuum vessel boundary. Every number in the array must be a float (a number including a decimal point). So, 3.5 and 3.0 are acceptable entries, but 3 is not."
   ]
  },
  {
   "cell_type": "code",
   "execution_count": 8,
   "id": "0TGi1hYDOWZp",
   "metadata": {
    "execution": {
     "iopub.execute_input": "2025-06-27T19:49:08.555179Z",
     "iopub.status.busy": "2025-06-27T19:49:08.554943Z",
     "iopub.status.idle": "2025-06-27T19:49:08.560191Z",
     "shell.execute_reply": "2025-06-27T19:49:08.559404Z"
    },
    "id": "0TGi1hYDOWZp"
   },
   "outputs": [],
   "source": [
    "\n",
    "vv_boundary = np.array(design_data['vacuum_vessel']['boundary_coordinates'])\n",
    "\n",
    "''' \n",
    "NEGATIVE TRIANGULARITY VV \n",
    "vv_boundary = np.array([[3.25, -0.75],[3.75, -1.25], [4.5, -1.85],[6.0, -1.85], [6.0, 1.85], [4.5, 1.85], [3.75, 1.25], [3.25, 1.0]]) ##Add/change the vacuum vessel coordinates here!!!\n",
    "\n",
    "BOX VV\n",
    "vv_boundary = np.array([[3.2, -1.8], [6.0, -1.8], [6.0, 1.8], [3.2,1.8]]) \n",
    "'''\n",
    "\n",
    "vv_outer = resize_polygon(vv_boundary, 0.04)"
   ]
  },
  {
   "cell_type": "markdown",
   "id": "sSZVfPhvOh-A",
   "metadata": {
    "id": "sSZVfPhvOh-A"
   },
   "source": [
    "Now, you can plot the shape of the plasma and the vacuum vessel boundary to see what they look like.  If your plasma cross-section does not fit inside the vacuum vessel, go back and modify your vacuum vessel points!"
   ]
  },
  {
   "cell_type": "code",
   "execution_count": 9,
   "id": "4Yiz5V7WOltw",
   "metadata": {
    "colab": {
     "base_uri": "https://localhost:8080/",
     "height": 124
    },
    "execution": {
     "iopub.execute_input": "2025-06-27T19:49:08.563591Z",
     "iopub.status.busy": "2025-06-27T19:49:08.563344Z",
     "iopub.status.idle": "2025-06-27T19:49:08.607547Z",
     "shell.execute_reply": "2025-06-27T19:49:08.606269Z"
    },
    "executionInfo": {
     "elapsed": 246,
     "status": "ok",
     "timestamp": 1740698879212,
     "user": {
      "displayName": "Gaurav Paliwal",
      "userId": "00188396162454001401"
     },
     "user_tz": 300
    },
    "id": "4Yiz5V7WOltw",
    "outputId": "43362d06-ec40-49bf-a3a1-e3e6072c8f4d"
   },
   "outputs": [
    {
     "data": {
      "text/plain": [
       "Text(0, 0.5, 'Z (m)')"
      ]
     },
     "execution_count": 9,
     "metadata": {},
     "output_type": "execute_result"
    }
   ],
   "source": [
    "fig, ax = plt.subplots()\n",
    "ax.fill(vv_outer[:,0], vv_outer[:,1], color = 'k')\n",
    "ax.fill(vv_boundary[:,0], vv_boundary[:,1], color = 'w')\n",
    "ax.scatter(boundary_pts[:,0], boundary_pts[:,1], color = 'b')\n",
    "ax.set_aspect(aspect = 1)\n",
    "ax.set_xlabel('R (m)')\n",
    "ax.set_ylabel('Z (m)')"
   ]
  },
  {
   "cell_type": "markdown",
   "id": "xUTa-xuRO-ar",
   "metadata": {
    "id": "xUTa-xuRO-ar"
   },
   "source": [
    "### Place poloidal field coils\n",
    "Now, we need to specify the locations of our poloidal field coils using (R,Z) coordinates. You can use a total of 8 poloidal field coils. You will need to change these coordinates to achieve the desired plasma shape."
   ]
  },
  {
   "cell_type": "code",
   "execution_count": 10,
   "id": "duf95pLAPuLX",
   "metadata": {
    "execution": {
     "iopub.execute_input": "2025-06-27T19:49:08.612684Z",
     "iopub.status.busy": "2025-06-27T19:49:08.612340Z",
     "iopub.status.idle": "2025-06-27T19:49:08.618428Z",
     "shell.execute_reply": "2025-06-27T19:49:08.617446Z"
    },
    "id": "duf95pLAPuLX"
   },
   "outputs": [
    {
     "name": "stdout",
     "output_type": "stream",
     "text": [
      "[[ 4.    2.5 ]\n",
      " [ 4.   -2.5 ]\n",
      " [ 4.95  2.15]\n",
      " [ 5.25 -2.25]\n",
      " [ 6.5   0.5 ]\n",
      " [ 6.5  -0.5 ]\n",
      " [ 2.8   0.25]\n",
      " [ 2.8  -0.25]]\n"
     ]
    }
   ],
   "source": [
    "'''\n",
    "default coils \n",
    "\n",
    "PF_1_R = 4.0\n",
    "PF_1_Z = 2.0\n",
    "\n",
    "PF_2_R = 4.0\n",
    "PF_2_Z = -2.0\n",
    "\n",
    "PF_3_R = 5.25\n",
    "PF_3_Z = 2.25\n",
    "\n",
    "PF_4_R = 5.25\n",
    "PF_4_Z = -2.25\n",
    "\n",
    "PF_5_R = 6.5\n",
    "PF_5_Z = .5\n",
    "\n",
    "PF_6_R = 6.5\n",
    "PF_6_Z = -.5\n",
    "\n",
    "PF_7_R = 3\n",
    "PF_7_Z = 0.25\n",
    "\n",
    "PF_8_R = 3\n",
    "PF_8_Z = -0.25\n",
    "'''\n",
    "\n",
    "# coil_locs = np.array([[PF_1_R, PF_1_Z], [PF_2_R, PF_2_Z], [PF_3_R, PF_3_Z], [PF_4_R, PF_4_Z], [PF_5_R, PF_5_Z], [PF_6_R, PF_6_Z], [PF_7_R, PF_7_Z], [PF_8_R, PF_8_Z]])\n",
    "\n",
    "coil_locs = np.array(design_data[\"coil_coordinates\"])\n",
    "\n",
    "print(coil_locs)"
   ]
  },
  {
   "cell_type": "markdown",
   "id": "tbztTvbjRtdr",
   "metadata": {
    "id": "tbztTvbjRtdr"
   },
   "source": [
    "We can plot the locations of our coils and the vacuum vessel boundary. Make sure that the coils are outside of the vacuum vessel."
   ]
  },
  {
   "cell_type": "code",
   "execution_count": 11,
   "id": "w7VLdBf5RtBl",
   "metadata": {
    "colab": {
     "base_uri": "https://localhost:8080/",
     "height": 124
    },
    "execution": {
     "iopub.execute_input": "2025-06-27T19:49:08.623626Z",
     "iopub.status.busy": "2025-06-27T19:49:08.623223Z",
     "iopub.status.idle": "2025-06-27T19:49:08.954449Z",
     "shell.execute_reply": "2025-06-27T19:49:08.953496Z"
    },
    "executionInfo": {
     "elapsed": 124,
     "status": "ok",
     "timestamp": 1740698879439,
     "user": {
      "displayName": "Gaurav Paliwal",
      "userId": "00188396162454001401"
     },
     "user_tz": 300
    },
    "id": "w7VLdBf5RtBl",
    "outputId": "a3671290-4a86-4d8b-94a6-8fdc2470e435"
   },
   "outputs": [
    {
     "name": "stderr",
     "output_type": "stream",
     "text": [
      "/var/folders/z5/d2ytmy3d2h18qcqwb9v71w2m0000gq/T/ipykernel_83731/2326095319.py:10: UserWarning: FigureCanvasAgg is non-interactive, and thus cannot be shown\n",
      "  plt.show()\n"
     ]
    },
    {
     "name": "stdout",
     "output_type": "stream",
     "text": [
      "Saved: examples/testing_1/01_vacuum_vessel_design.png\n"
     ]
    }
   ],
   "source": [
    "fig, ax = plt.subplots()\n",
    "ax.fill(vv_outer[:,0], vv_outer[:,1], color = 'k')\n",
    "ax.fill(vv_boundary[:,0], vv_boundary[:,1], color = 'w')\n",
    "ax.scatter(boundary_pts[:,0], boundary_pts[:,1], color = 'b')\n",
    "ax.scatter(coil_locs[:,0], coil_locs[:,1], color = 'r')\n",
    "ax.set_aspect(aspect = 1)\n",
    "ax.set_xlabel('R (m)')\n",
    "ax.set_ylabel('Z (m)')\n",
    "\n",
    "plt.show()\n",
    "save_figure(fig, \"01_vacuum_vessel_design.png\")"
   ]
  },
  {
   "cell_type": "markdown",
   "id": "0dl-jMFbLzAM",
   "metadata": {
    "id": "0dl-jMFbLzAM"
   },
   "source": [
    "### Define the regions of our tokamak\n",
    "We have to tell the solver what domains we plan on implementing in our tokamak. For this device, we implement four types of domains:\n",
    "1.   An air domain, which surrounds the tokamak\n",
    "2.   A vaccum vessel domain, for the vacuum vessel containing the plasma\n",
    "3.   A plasma domain, where the plasma will be located\n",
    "4.   Eight poloidal field coil domains, which contain the coils we will use to shape the plasma\n",
    "\n",
    "**You do not need to change this code.**\n",
    "\n"
   ]
  },
  {
   "cell_type": "code",
   "execution_count": 12,
   "id": "uFiC6FlsMWfE",
   "metadata": {
    "execution": {
     "iopub.execute_input": "2025-06-27T19:49:08.959258Z",
     "iopub.status.busy": "2025-06-27T19:49:08.958942Z",
     "iopub.status.idle": "2025-06-27T19:49:08.965447Z",
     "shell.execute_reply": "2025-06-27T19:49:08.963791Z"
    },
    "id": "uFiC6FlsMWfE"
   },
   "outputs": [],
   "source": [
    "#### DO NOT CHANGE ####\n",
    "# Create a mesh object\n",
    "mesh = gs_Domain()\n",
    "# Define region information for mesh\n",
    "mesh.define_region('air',vac_dx,'boundary')        # Air domain\n",
    "mesh.define_region('vv',vv_dx,'conductor',eta= 6.9E-7)      # Vaccum vessel domain\n",
    "mesh.define_region('plasma',plasma_dx,'plasma')    # Plasma domain\n",
    "# Define each of the PF coils\n",
    "for i in range(1,9):\n",
    "    mesh.define_region('PF_' + str(i),coil_dx,'coil') # Coil domains\n",
    "#### DO NOT CHANGE ####\n",
    "\n",
    "\n"
   ]
  },
  {
   "cell_type": "markdown",
   "id": "ZgnMfdYPT0Gp",
   "metadata": {
    "id": "ZgnMfdYPT0Gp"
   },
   "source": [
    "## Add region boundaries to our gs_Domain object\n",
    "Now that we have decided on our geometry, we need to pass that information on to the mesh object. **You do not need to modify this code.**"
   ]
  },
  {
   "cell_type": "code",
   "execution_count": 13,
   "id": "DLELB8fMUfRc",
   "metadata": {
    "execution": {
     "iopub.execute_input": "2025-06-27T19:49:08.970712Z",
     "iopub.status.busy": "2025-06-27T19:49:08.970303Z",
     "iopub.status.idle": "2025-06-27T19:49:08.980960Z",
     "shell.execute_reply": "2025-06-27T19:49:08.979779Z"
    },
    "id": "DLELB8fMUfRc"
   },
   "outputs": [],
   "source": [
    "#### DO NOT CHANGE ####\n",
    "# Define geometry\n",
    "mesh.add_annulus(vv_boundary,'plasma',vv_outer,'vv',parent_name='air') # Define the shape of the VV\n",
    "\n",
    "# Define the shape of the PF coils\n",
    "for i in range(1,9):\n",
    "    mesh.add_rectangle(coil_locs[i-1,0],coil_locs[i-1,1],0.3,0.3,'PF_' + str(i),parent_name='air')\n",
    "#### DO NOT CHANGE ####"
   ]
  },
  {
   "cell_type": "code",
   "execution_count": 14,
   "id": "ccGJup1QXzsk",
   "metadata": {
    "colab": {
     "base_uri": "https://localhost:8080/",
     "height": 54
    },
    "execution": {
     "iopub.execute_input": "2025-06-27T19:49:08.984566Z",
     "iopub.status.busy": "2025-06-27T19:49:08.984270Z",
     "iopub.status.idle": "2025-06-27T19:49:09.016067Z",
     "shell.execute_reply": "2025-06-27T19:49:09.015209Z"
    },
    "executionInfo": {
     "elapsed": 326,
     "status": "ok",
     "timestamp": 1740698879814,
     "user": {
      "displayName": "Gaurav Paliwal",
      "userId": "00188396162454001401"
     },
     "user_tz": 300
    },
    "id": "ccGJup1QXzsk",
    "outputId": "f32ed2f6-d945-4f5b-b3ca-fdd2270a30ee"
   },
   "outputs": [],
   "source": [
    "fig, ax = plt.subplots(1,1,figsize=(4,6),constrained_layout=True)\n",
    "mesh.plot_topology(fig,ax)"
   ]
  },
  {
   "cell_type": "markdown",
   "id": "EhYVeXQzWl6z",
   "metadata": {
    "id": "EhYVeXQzWl6z"
   },
   "source": [
    "### Generate mesh\n",
    "Now we generate the actual mesh that TokaMaker will use to solve the Grad Shafranov equation. We also plot the mesh to make sure that each region is defined properly. **You do not need to change this code.**"
   ]
  },
  {
   "cell_type": "code",
   "execution_count": 15,
   "id": "hLK0Sg4pWxAh",
   "metadata": {
    "colab": {
     "base_uri": "https://localhost:8080/"
    },
    "execution": {
     "iopub.execute_input": "2025-06-27T19:49:09.019851Z",
     "iopub.status.busy": "2025-06-27T19:49:09.019325Z",
     "iopub.status.idle": "2025-06-27T19:49:09.446575Z",
     "shell.execute_reply": "2025-06-27T19:49:09.445749Z"
    },
    "executionInfo": {
     "elapsed": 1997,
     "status": "ok",
     "timestamp": 1740698881811,
     "user": {
      "displayName": "Gaurav Paliwal",
      "userId": "00188396162454001401"
     },
     "user_tz": 300
    },
    "id": "hLK0Sg4pWxAh",
    "outputId": "82164b12-204a-446a-dac0-5310454f0fa3"
   },
   "outputs": [
    {
     "name": "stdout",
     "output_type": "stream",
     "text": [
      "Assembling regions:\n",
      "  # of unique points    = 317\n",
      "  # of unique segments  = 48\n"
     ]
    },
    {
     "name": "stdout",
     "output_type": "stream",
     "text": [
      "Generating mesh:\n",
      "  # of points  = 1901\n",
      "  # of cells   = 3688\n",
      "  # of regions = 11\n",
      "{'PF_1': {'reg_id': 4, 'coil_id': 0, 'nturns': 1, 'coil_set': 'PF_1', 'allow_xpoints': False}, 'PF_2': {'reg_id': 5, 'coil_id': 1, 'nturns': 1, 'coil_set': 'PF_2', 'allow_xpoints': False}, 'PF_3': {'reg_id': 6, 'coil_id': 2, 'nturns': 1, 'coil_set': 'PF_3', 'allow_xpoints': False}, 'PF_4': {'reg_id': 7, 'coil_id': 3, 'nturns': 1, 'coil_set': 'PF_4', 'allow_xpoints': False}, 'PF_5': {'reg_id': 8, 'coil_id': 4, 'nturns': 1, 'coil_set': 'PF_5', 'allow_xpoints': False}, 'PF_6': {'reg_id': 9, 'coil_id': 5, 'nturns': 1, 'coil_set': 'PF_6', 'allow_xpoints': False}, 'PF_7': {'reg_id': 10, 'coil_id': 6, 'nturns': 1, 'coil_set': 'PF_7', 'allow_xpoints': False}, 'PF_8': {'reg_id': 11, 'coil_id': 7, 'nturns': 1, 'coil_set': 'PF_8', 'allow_xpoints': False}}\n",
      "{'AIR': {'reg_id': 2, 'vac_id': 0, 'allow_xpoints': False}, 'VV': {'reg_id': 3, 'cond_id': 0, 'eta': 6.9e-07, 'noncontinuous': False, 'allow_xpoints': False}}\n"
     ]
    }
   ],
   "source": [
    "#### DO NOT CHANGE ####\n",
    "mesh_pts, mesh_lc, mesh_reg = mesh.build_mesh()\n",
    "coil_dict = mesh.get_coils()\n",
    "cond_dict = mesh.get_conductors()\n",
    "#### DO NOT CHANGE ####\n",
    "\n",
    "print(coil_dict)\n",
    "print(cond_dict)"
   ]
  },
  {
   "cell_type": "code",
   "execution_count": 16,
   "id": "AzGVGE_1ZY-Q",
   "metadata": {
    "colab": {
     "base_uri": "https://localhost:8080/",
     "height": 54
    },
    "execution": {
     "iopub.execute_input": "2025-06-27T19:49:09.450406Z",
     "iopub.status.busy": "2025-06-27T19:49:09.449768Z",
     "iopub.status.idle": "2025-06-27T19:49:09.489445Z",
     "shell.execute_reply": "2025-06-27T19:49:09.488553Z"
    },
    "executionInfo": {
     "elapsed": 913,
     "status": "ok",
     "timestamp": 1740698882748,
     "user": {
      "displayName": "Gaurav Paliwal",
      "userId": "00188396162454001401"
     },
     "user_tz": 300
    },
    "id": "AzGVGE_1ZY-Q",
    "outputId": "3da00a4f-e1ee-4bc9-c55e-039ceaca9b8b"
   },
   "outputs": [],
   "source": [
    "fig, ax = plt.subplots(1,1,figsize=(5,5),constrained_layout=True)\n",
    "mesh.plot_mesh(fig,ax)"
   ]
  },
  {
   "cell_type": "markdown",
   "id": "EhLkpAeYaBSM",
   "metadata": {
    "id": "EhLkpAeYaBSM"
   },
   "source": [
    "# Find a plasma equilibrium\n",
    "\n",
    "### Setup TokaMaker\n",
    "Now that we have set up our device, we are ready to solve for an equilibrium. First, we need to make a new object of the TokaMaker class and load in our mesh information.\n",
    "\n",
    "**Important note:** Without resetting your tokamaker object, these code segments can only be run once per Google colab session.  If you have modified your device and would like to run these lines again, please uncomment the \"tokamaker.reset()\" line, which will allow you to run tokamaker.setup() again. If you accidentally run these cells again without running reset(), you may get a message that your kernel has crashed. You can go to 'Runtime' -> 'Restart Session' in the Google Colab menu to start a new session (all of your code will be saved)."
   ]
  },
  {
   "cell_type": "code",
   "execution_count": 17,
   "id": "AowwAHdLSWkI",
   "metadata": {
    "execution": {
     "iopub.execute_input": "2025-06-27T19:49:09.493407Z",
     "iopub.status.busy": "2025-06-27T19:49:09.493120Z",
     "iopub.status.idle": "2025-06-27T19:49:09.497623Z",
     "shell.execute_reply": "2025-06-27T19:49:09.496598Z"
    },
    "id": "AowwAHdLSWkI"
   },
   "outputs": [],
   "source": [
    "# tokamaker.reset()"
   ]
  },
  {
   "cell_type": "code",
   "execution_count": 18,
   "id": "v-k4WSDlasiI",
   "metadata": {
    "colab": {
     "base_uri": "https://localhost:8080/"
    },
    "execution": {
     "iopub.execute_input": "2025-06-27T19:49:09.503834Z",
     "iopub.status.busy": "2025-06-27T19:49:09.503028Z",
     "iopub.status.idle": "2025-06-27T19:49:09.547604Z",
     "shell.execute_reply": "2025-06-27T19:49:09.546750Z"
    },
    "executionInfo": {
     "elapsed": 7,
     "status": "ok",
     "timestamp": 1740608394278,
     "user": {
      "displayName": "Sophia Blu Guizzo",
      "userId": "07247402270845785778"
     },
     "user_tz": 300
    },
    "id": "v-k4WSDlasiI",
    "outputId": "9a06eff1-b29c-4bf7-9375-549ea9cc4526"
   },
   "outputs": [
    {
     "name": "stdout",
     "output_type": "stream",
     "text": [
      "#----------------------------------------------\n",
      "Open FUSION Toolkit Initialized\n",
      "Development branch:   main\n",
      "Revision id:          f8ced65\n",
      "Parallelization Info:\n",
      "  Not compiled with MPI\n",
      "  # of OpenMP threads =    2\n",
      "Fortran input file    = /var/folders/z5/d2ytmy3d2h18qcqwb9v71w2m0000gq/T/oft_83731/oftpyin\n",
      "XML input file        = none\n",
      "Integer Precisions    =    4   8\n",
      "Float Precisions      =    4   8  16\n",
      "Complex Precisions    =    4   8\n",
      "LA backend            = native\n",
      "#----------------------------------------------\n",
      "\n",
      "\n",
      "**** Generating surface grid level  1\n",
      "  Generating boundary domain linkage\n",
      "  Mesh statistics:\n",
      "    Area         =  5.075E+01\n",
      "    # of points  =    1901\n",
      "    # of edges   =    5588\n",
      "    # of cells   =    3688\n",
      "    # of boundary points =     112\n",
      "    # of boundary edges  =     112\n",
      "    # of boundary cells  =     112\n",
      "  Resolution statistics:\n",
      "    hmin =  4.000E-02\n",
      "    hrms =  1.898E-01\n",
      "    hmax =  3.645E-01\n",
      "  Surface grounded at vertex     305\n",
      "\n"
     ]
    }
   ],
   "source": [
    "#### DO NOT CHANGE ####\n",
    "myOFT = OFT_env(nthreads=2)\n",
    "tokamaker = TokaMaker(myOFT)\n",
    "tokamaker.setup_mesh(mesh_pts, mesh_lc, mesh_reg)\n",
    "tokamaker.setup_regions(cond_dict=cond_dict,coil_dict=coil_dict)\n",
    "#### DO NOT CHANGE ####"
   ]
  },
  {
   "cell_type": "markdown",
   "id": "At1Pd3yWKi9v",
   "metadata": {
    "id": "At1Pd3yWKi9v"
   },
   "source": [
    "### Set magnetic field and major radius\n",
    "\n",
    "Here, we specify the magnetic field and major radius of the plasma. You should change these values to match your target parameters."
   ]
  },
  {
   "cell_type": "code",
   "execution_count": 19,
   "id": "80ZM6KfqKg2C",
   "metadata": {
    "colab": {
     "base_uri": "https://localhost:8080/"
    },
    "execution": {
     "iopub.execute_input": "2025-06-27T19:49:09.550429Z",
     "iopub.status.busy": "2025-06-27T19:49:09.550161Z",
     "iopub.status.idle": "2025-06-27T19:49:10.630718Z",
     "shell.execute_reply": "2025-06-27T19:49:10.629976Z"
    },
    "executionInfo": {
     "elapsed": 6843,
     "status": "ok",
     "timestamp": 1740608401122,
     "user": {
      "displayName": "Sophia Blu Guizzo",
      "userId": "07247402270845785778"
     },
     "user_tz": 300
    },
    "id": "80ZM6KfqKg2C",
    "outputId": "b6ea4ab1-3215-4b08-9ce6-e567a3ce88cc"
   },
   "outputs": [
    {
     "name": "stdout",
     "output_type": "stream",
     "text": [
      "\n",
      "**** Creating Lagrange FE space\n",
      "  Order  =    2\n",
      "  Minlev =   -1\n",
      "\n",
      " Computing flux BC matrix \n"
     ]
    },
    {
     "name": "stdout",
     "output_type": "stream",
     "text": [
      " Inverting real matrix\n",
      "   Time =    1.8710000000000001E-003\n"
     ]
    }
   ],
   "source": [
    "B0 = 11 #toroidal magnetic field\n",
    "R0 = 4.55 #major radius\n",
    "\n",
    "tokamaker.setup(order=2,F0=B0*R0)"
   ]
  },
  {
   "cell_type": "markdown",
   "id": "KAZ-UoLVA2zg",
   "metadata": {
    "id": "KAZ-UoLVA2zg"
   },
   "source": [
    "### Define global quantities and targets\n",
    "\n",
    "We need to tell the solver a bit more information about our device. First, we need to specify the total current in the plasma, by setting a target value for 'Ip'.\n",
    "\n",
    "We also need to specify a target for the plasma pressure in the core of the tokamak. To do this, we set a number for the 'p_core_target'.\n",
    "\n",
    "You will likely need to adjust these quantities to match other design targets, such as an appropriate q-profile and the correct poloidal beta ($\\beta_p$)."
   ]
  },
  {
   "cell_type": "code",
   "execution_count": 20,
   "id": "qjZaLK97CtyA",
   "metadata": {
    "execution": {
     "iopub.execute_input": "2025-06-27T19:49:10.633562Z",
     "iopub.status.busy": "2025-06-27T19:49:10.633371Z",
     "iopub.status.idle": "2025-06-27T19:49:10.636826Z",
     "shell.execute_reply": "2025-06-27T19:49:10.636066Z"
    },
    "id": "qjZaLK97CtyA"
   },
   "outputs": [],
   "source": [
    "Ip_target = 8E6\n",
    "Ip_ratio_target = 0.333\n",
    "\n",
    "tokamaker.set_targets(Ip=Ip_target,pax = Ip_ratio_target)"
   ]
  },
  {
   "cell_type": "markdown",
   "id": "GuzzZkwsC0Qi",
   "metadata": {
    "id": "GuzzZkwsC0Qi"
   },
   "source": [
    "### Define plasma profiles\n",
    "\n",
    "The magnitudes of the F*F' and P' profiles are determined by the global quantities set above.  Now, we need to specify the actual shape of the profiles. For simplicity, we will use simple polynomial profiles of the form\n",
    " $((1-\\hat{\\psi})^{\\alpha})^{\\gamma}$ using the built-in TokaMaker function 'create_power_flux_fun'.\n",
    "\n",
    " Feel free to adjust the alpha ($\\alpha$) and gamma ($\\gamma$) parameters for both P' and F*F' to reach your desired internal inductance ($l_i$) target.\n"
   ]
  },
  {
   "cell_type": "code",
   "execution_count": 21,
   "id": "TRFkGcncFU_2",
   "metadata": {
    "execution": {
     "iopub.execute_input": "2025-06-27T19:49:10.639808Z",
     "iopub.status.busy": "2025-06-27T19:49:10.639576Z",
     "iopub.status.idle": "2025-06-27T19:49:10.646791Z",
     "shell.execute_reply": "2025-06-27T19:49:10.646278Z"
    },
    "id": "TRFkGcncFU_2"
   },
   "outputs": [],
   "source": [
    "ffp_alpha = 2.15\n",
    "ffp_gamma = 1.7\n",
    "\n",
    "pp_alpha = 2.15\n",
    "pp_gamma = 1.7\n",
    "\n",
    "ffp_prof = create_power_flux_fun(40,pp_alpha,pp_gamma)\n",
    "pp_prof = create_power_flux_fun(40,ffp_alpha,ffp_gamma)\n",
    "\n",
    "tokamaker.set_profiles(ffp_prof=ffp_prof,pp_prof=pp_prof)"
   ]
  },
  {
   "cell_type": "markdown",
   "id": "-WR__ruTGyKz",
   "metadata": {
    "id": "-WR__ruTGyKz"
   },
   "source": [
    "Now, we can visualize our profiles. \"Peaked\" profiles, which are more concentrated around $\\Psi$ = 0, correspond to higher internal inductance ($l_i$)."
   ]
  },
  {
   "cell_type": "code",
   "execution_count": 22,
   "id": "mVn-wAqiHHSN",
   "metadata": {
    "colab": {
     "base_uri": "https://localhost:8080/",
     "height": 547
    },
    "execution": {
     "iopub.execute_input": "2025-06-27T19:49:10.649583Z",
     "iopub.status.busy": "2025-06-27T19:49:10.649360Z",
     "iopub.status.idle": "2025-06-27T19:49:10.998718Z",
     "shell.execute_reply": "2025-06-27T19:49:10.998236Z"
    },
    "executionInfo": {
     "elapsed": 467,
     "status": "ok",
     "timestamp": 1740608401630,
     "user": {
      "displayName": "Sophia Blu Guizzo",
      "userId": "07247402270845785778"
     },
     "user_tz": 300
    },
    "id": "mVn-wAqiHHSN",
    "outputId": "21ae436d-a9e7-4aea-ee9f-889f247312d5"
   },
   "outputs": [
    {
     "name": "stderr",
     "output_type": "stream",
     "text": [
      "/var/folders/z5/d2ytmy3d2h18qcqwb9v71w2m0000gq/T/ipykernel_83731/373337011.py:10: UserWarning: FigureCanvasAgg is non-interactive, and thus cannot be shown\n",
      "  plt.show()\n"
     ]
    },
    {
     "name": "stdout",
     "output_type": "stream",
     "text": [
      "Saved: examples/testing_1/02_plasma_profiles.png\n"
     ]
    }
   ],
   "source": [
    "fig, ax = plt.subplots(2,1,sharex=True)\n",
    "# Plot F*F'\n",
    "ax[0].plot(ffp_prof['x'],ffp_prof['y'])\n",
    "ax[0].set_ylabel(\"FF'\")\n",
    "# Plot P'\n",
    "ax[1].plot(pp_prof['x'],pp_prof['y'])\n",
    "ax[1].set_ylabel(\"P'\")\n",
    "_ = ax[-1].set_xlabel(r\"$\\hat{\\psi}$\")\n",
    "\n",
    "plt.show()\n",
    "save_figure(fig, \"02_plasma_profiles.png\")\n"
   ]
  },
  {
   "cell_type": "markdown",
   "id": "sK8_vlE6ICLN",
   "metadata": {
    "id": "sK8_vlE6ICLN"
   },
   "source": [
    "### Set shape targets\n",
    "\n",
    "Now we need to tell TokaMaker what the shape of our plasma cross-section will look like. Given that we've already made an array of points defining our plasma, we just need to pass this array to the set_isoflux() method. **You do not need to change this code**."
   ]
  },
  {
   "cell_type": "code",
   "execution_count": 23,
   "id": "NwaXM9HVIELW",
   "metadata": {
    "execution": {
     "iopub.execute_input": "2025-06-27T19:49:11.001576Z",
     "iopub.status.busy": "2025-06-27T19:49:11.001211Z",
     "iopub.status.idle": "2025-06-27T19:49:11.004310Z",
     "shell.execute_reply": "2025-06-27T19:49:11.003876Z"
    },
    "id": "NwaXM9HVIELW"
   },
   "outputs": [],
   "source": [
    "tokamaker.set_isoflux(boundary_pts, weights = 5*np.ones(len(boundary_pts)))"
   ]
  },
  {
   "cell_type": "markdown",
   "id": "1YXcoZqZQpFr",
   "metadata": {
    "id": "1YXcoZqZQpFr"
   },
   "source": [
    "### Set up coil regularization\n",
    "\n",
    "This code segment makes sure that the solver tries to minimize the currents in each coil. **You should not change this code**"
   ]
  },
  {
   "cell_type": "code",
   "execution_count": 24,
   "id": "-1kBxbFmMWdy",
   "metadata": {
    "execution": {
     "iopub.execute_input": "2025-06-27T19:49:11.006922Z",
     "iopub.status.busy": "2025-06-27T19:49:11.006765Z",
     "iopub.status.idle": "2025-06-27T19:49:11.010363Z",
     "shell.execute_reply": "2025-06-27T19:49:11.009920Z"
    },
    "id": "-1kBxbFmMWdy"
   },
   "outputs": [],
   "source": [
    "#### DO NOT CHANGE ####\n",
    "coil_regmat = np.zeros((tokamaker.ncoils+1,tokamaker.ncoils+1), dtype=np.float64)\n",
    "coil_regmat = np.eye(tokamaker.ncoils+1, dtype = np.float64)\n",
    "targets = np.zeros(tokamaker.ncoils+1)\n",
    "weights = 0.1*np.ones(tokamaker.ncoils+1)\n",
    "tokamaker.set_coil_reg(coil_regmat, targets, weights)\n",
    "#### DO NOT CHANGE ####"
   ]
  },
  {
   "cell_type": "markdown",
   "id": "JbTmQMU4L9N4",
   "metadata": {
    "id": "JbTmQMU4L9N4"
   },
   "source": [
    "Now we are ready to solve. **You shouldn't have to edit any of this code.**"
   ]
  },
  {
   "cell_type": "code",
   "execution_count": 25,
   "id": "bkoxsDd6MDWW",
   "metadata": {
    "colab": {
     "base_uri": "https://localhost:8080/"
    },
    "execution": {
     "iopub.execute_input": "2025-06-27T19:49:11.012813Z",
     "iopub.status.busy": "2025-06-27T19:49:11.012600Z",
     "iopub.status.idle": "2025-06-27T19:49:11.326590Z",
     "shell.execute_reply": "2025-06-27T19:49:11.325946Z"
    },
    "executionInfo": {
     "elapsed": 762,
     "status": "ok",
     "timestamp": 1740608402397,
     "user": {
      "displayName": "Sophia Blu Guizzo",
      "userId": "07247402270845785778"
     },
     "user_tz": 300
    },
    "id": "bkoxsDd6MDWW",
    "outputId": "f388ea34-6e09-4c17-b2fd-0ac7915048fa"
   },
   "outputs": [
    {
     "name": "stdout",
     "output_type": "stream",
     "text": [
      "Starting non-linear GS solver\n",
      "     1  4.0462E+01  4.2424E-07  9.4969E-01  4.8999E+00  1.7594E-02 -0.0000E+00\n",
      "     2  5.5597E+01  2.0000E-07  4.8228E-01  4.8902E+00  9.6410E-04 -0.0000E+00\n",
      "     3  6.1271E+01  1.4900E-07  1.6671E-01  4.8867E+00  1.1671E-03 -0.0000E+00\n",
      "     4  6.3404E+01  1.3396E-07  5.5008E-02  4.8842E+00  1.2075E-03 -0.0000E+00\n",
      "     5  6.4349E+01  1.2891E-07  1.9463E-02  4.8824E+00  1.1685E-03 -0.0000E+00\n",
      "     6  6.4797E+01  1.2696E-07  7.7657E-03  4.8813E+00  1.1061E-03 -0.0000E+00\n",
      "     7  6.5017E+01  1.2613E-07  3.5959E-03  4.8806E+00  1.0446E-03 -0.0000E+00\n",
      "     8  6.5128E+01  1.2575E-07  1.8764E-03  4.8801E+00  9.9301E-04 -0.0000E+00\n",
      "     9  6.5184E+01  1.2556E-07  1.0453E-03  4.8799E+00  9.5325E-04 -0.0000E+00\n",
      "    10  6.5212E+01  1.2547E-07  5.9807E-04  4.8797E+00  9.2416E-04 -0.0000E+00\n",
      "    11  6.5227E+01  1.2542E-07  3.4493E-04  4.8796E+00  9.0360E-04 -0.0000E+00\n",
      "    12  6.5235E+01  1.2540E-07  1.9928E-04  4.8796E+00  8.8940E-04 -0.0000E+00\n"
     ]
    },
    {
     "name": "stdout",
     "output_type": "stream",
     "text": [
      "    13  6.5239E+01  1.2538E-07  1.1519E-04  4.8796E+00  8.7975E-04 -0.0000E+00\n",
      "    14  6.5241E+01  1.2538E-07  6.6710E-05  4.8796E+00  8.7328E-04 -0.0000E+00\n",
      "    15  6.5242E+01  1.2537E-07  3.8782E-05  4.8795E+00  8.6898E-04 -0.0000E+00\n",
      "    16  6.5242E+01  1.2537E-07  2.2681E-05  4.8795E+00  8.6614E-04 -0.0000E+00\n",
      "    17  6.5242E+01  1.2537E-07  1.3370E-05  4.8795E+00  8.6428E-04 -0.0000E+00\n"
     ]
    },
    {
     "name": "stdout",
     "output_type": "stream",
     "text": [
      "    18  6.5243E+01  1.2537E-07  7.9534E-06  4.8795E+00  8.6307E-04 -0.0000E+00\n",
      "    19  6.5243E+01  1.2537E-07  4.7780E-06  4.8795E+00  8.6228E-04 -0.0000E+00\n",
      "    20  6.5243E+01  1.2537E-07  2.8988E-06  4.8795E+00  8.6177E-04 -0.0000E+00\n",
      "    21  6.5243E+01  1.2537E-07  1.7750E-06  4.8795E+00  8.6144E-04 -0.0000E+00\n",
      "    22  6.5243E+01  1.2537E-07  1.0960E-06  4.8795E+00  8.6123E-04 -0.0000E+00\n",
      "    23  6.5243E+01  1.2537E-07  6.8164E-07  4.8795E+00  8.6109E-04 -0.0000E+00\n",
      " Timing:  0.26707499998155981     \n",
      "   Source:     7.8364000073634088E-002\n",
      "   Solve:      6.3444000319577754E-002\n",
      "   Boundary:   1.5278999577276409E-002\n",
      "   Other:     0.10998800001107156     \n"
     ]
    }
   ],
   "source": [
    "#### DO NOT CHANGE ####\n",
    "tokamaker.init_psi(major_radius,0.0,minor_radius,elongation,triangularity)\n",
    "err_flag = tokamaker.solve()\n",
    "#### DO NOT CHANGE ####"
   ]
  },
  {
   "cell_type": "markdown",
   "id": "EdgQVZ54R3Kr",
   "metadata": {
    "id": "EdgQVZ54R3Kr"
   },
   "source": [
    "### Check for convergence\n",
    "This code prints out err_flag. If it is anything other than 0, the solver has failed."
   ]
  },
  {
   "cell_type": "code",
   "execution_count": 26,
   "id": "Th2nRddPSFvi",
   "metadata": {
    "colab": {
     "base_uri": "https://localhost:8080/"
    },
    "execution": {
     "iopub.execute_input": "2025-06-27T19:49:11.330340Z",
     "iopub.status.busy": "2025-06-27T19:49:11.330053Z",
     "iopub.status.idle": "2025-06-27T19:49:11.333906Z",
     "shell.execute_reply": "2025-06-27T19:49:11.333041Z"
    },
    "executionInfo": {
     "elapsed": 13,
     "status": "ok",
     "timestamp": 1740608402411,
     "user": {
      "displayName": "Sophia Blu Guizzo",
      "userId": "07247402270845785778"
     },
     "user_tz": 300
    },
    "id": "Th2nRddPSFvi",
    "outputId": "0a85384b-1f79-4f6b-bb2d-a69efe9a0603"
   },
   "outputs": [
    {
     "name": "stdout",
     "output_type": "stream",
     "text": [
      "None\n"
     ]
    }
   ],
   "source": [
    "print(err_flag)"
   ]
  },
  {
   "cell_type": "markdown",
   "id": "r-3PoW2LSKGq",
   "metadata": {
    "id": "r-3PoW2LSKGq"
   },
   "source": [
    "# Analyze equilibrium\n",
    "\n",
    "Now we are ready to analyze our equilibrium and check how it performs against our desired metrics.\n",
    "\n",
    "### Plot equilibrium solution\n",
    "\n",
    "The red crosses correspond to our target plasma boundary. Check if this lines up with the actual plasma boundary. If they are not similar, you may need to adjust your coil positions to create your desired shape.\n",
    "\n",
    "**You do not need to change this code.**\n"
   ]
  },
  {
   "cell_type": "code",
   "execution_count": 27,
   "id": "I6hfS__nNF8s",
   "metadata": {
    "colab": {
     "base_uri": "https://localhost:8080/",
     "height": 522
    },
    "execution": {
     "iopub.execute_input": "2025-06-27T19:49:11.337784Z",
     "iopub.status.busy": "2025-06-27T19:49:11.337485Z",
     "iopub.status.idle": "2025-06-27T19:49:11.674349Z",
     "shell.execute_reply": "2025-06-27T19:49:11.673512Z"
    },
    "executionInfo": {
     "elapsed": 379,
     "status": "ok",
     "timestamp": 1740608402792,
     "user": {
      "displayName": "Sophia Blu Guizzo",
      "userId": "07247402270845785778"
     },
     "user_tz": 300
    },
    "id": "I6hfS__nNF8s",
    "outputId": "079b5a8d-dc09-452d-e40e-0835382a4db5"
   },
   "outputs": [
    {
     "name": "stderr",
     "output_type": "stream",
     "text": [
      "/var/folders/z5/d2ytmy3d2h18qcqwb9v71w2m0000gq/T/ipykernel_83731/2784647179.py:11: UserWarning: FigureCanvasAgg is non-interactive, and thus cannot be shown\n",
      "  plt.show()\n"
     ]
    },
    {
     "name": "stdout",
     "output_type": "stream",
     "text": [
      "Saved: examples/testing_1/03_initial_equilibrium.png\n"
     ]
    }
   ],
   "source": [
    "#### DO NOT CHANGE ####\n",
    "fig, ax = plt.subplots()\n",
    "tokamaker.plot_machine(fig,ax)\n",
    "tokamaker.plot_psi(fig,ax)\n",
    "tokamaker.plot_constraints(fig,ax)\n",
    "\n",
    "ax.set_xlabel('R (m)')\n",
    "ax.set_ylabel('Z (m)')\n",
    "#### DO NOT CHANGE ####\n",
    "\n",
    "plt.show()\n",
    "save_figure(fig, \"03_initial_equilibrium.png\")"
   ]
  },
  {
   "cell_type": "markdown",
   "id": "Mp_HN7itShg2",
   "metadata": {
    "id": "Mp_HN7itShg2"
   },
   "source": [
    "### Print equilibrium statistics\n",
    "\n",
    "TokaMaker has a built-in function to compute a bunch of relevant quantities for an equilibrium. There are a few things you should take note of:\n",
    "\n",
    "1.   Where is the current centroid? Is it close to your desired major radius? If not, you may need to adjust your coil positions to better match the target shape. (Cell 9)\n",
    "2.   What is the elongation? Is it close to your target elongation? If not, you may need to adjust your coil positions to better match the target shape. (Cell 9)\n",
    "3.   What is the triangularity. Is it close to the target triangularity? If not, you may need to adjust your coil positions to better match the target shape. (Cell 9)\n",
    "4.   What is your q_95? Is it less than 2.5? If so, you may need to decrease your target plasma current (Ip) to increase this number.  Is it way above 4? If so, you may want to increase your plasma current to decrease this number. (Cell 19)\n",
    "5. What is your beta_pol? Is it close to your target beta_pol? If not, you might need to adjust your p_core_target. (Cell 19)\n",
    "6. What is your internal inductance(l_i) ? Is it close to your target l_i? If not, you may need to alter the alpha and gamma factors in your FF' and P' profile shapes to alter this number. (Cell 20)\n",
    "\n"
   ]
  },
  {
   "cell_type": "code",
   "execution_count": 28,
   "id": "UBgenPZoSvzs",
   "metadata": {
    "colab": {
     "base_uri": "https://localhost:8080/"
    },
    "execution": {
     "iopub.execute_input": "2025-06-27T19:49:11.677576Z",
     "iopub.status.busy": "2025-06-27T19:49:11.677275Z",
     "iopub.status.idle": "2025-06-27T19:49:11.696363Z",
     "shell.execute_reply": "2025-06-27T19:49:11.695781Z"
    },
    "executionInfo": {
     "elapsed": 29,
     "status": "ok",
     "timestamp": 1740608402816,
     "user": {
      "displayName": "Sophia Blu Guizzo",
      "userId": "07247402270845785778"
     },
     "user_tz": 300
    },
    "id": "UBgenPZoSvzs",
    "outputId": "288dbd66-0540-4315-8681-40b0b158b814"
   },
   "outputs": [
    {
     "data": {
      "text/plain": [
       "{'Ip': 7999999.85135074,\n",
       " 'Ip_centroid': array([4.85959131e+00, 2.87844519e-03]),\n",
       " 'kappa': np.float64(1.6312925497658772),\n",
       " 'kappaU': np.float64(1.7465439570246992),\n",
       " 'kappaL': np.float64(1.5160411425070555),\n",
       " 'delta': np.float64(-0.5270921298574164),\n",
       " 'deltaU': np.float64(-0.5670654869179336),\n",
       " 'deltaL': np.float64(-0.4871187727968991),\n",
       " 'R_geo': np.float64(4.831444313680195),\n",
       " 'a_geo': np.float64(0.792841492078205),\n",
       " 'vol': 93.92567256326376,\n",
       " 'q_0': np.float64(0.6845643783511176),\n",
       " 'q_95': np.float64(1.4612425475265167),\n",
       " 'P_ax': np.float64(0.33243005422912647),\n",
       " 'W_MHD': 12.46154425204459,\n",
       " 'beta_pol': np.float64(9.298879255207838e-06),\n",
       " 'dflux': 0.35933864961756223,\n",
       " 'tflux': 31.785505863901776,\n",
       " 'l_i': np.float64(1.026018044625058),\n",
       " 'beta_tor': np.float64(2.0714857214881816e-07),\n",
       " 'beta_n': np.float64(2.1266961206172285e-07)}"
      ]
     },
     "execution_count": 28,
     "metadata": {},
     "output_type": "execute_result"
    }
   ],
   "source": [
    "tokamaker.get_stats()"
   ]
  },
  {
   "cell_type": "markdown",
   "id": "BykHGvZfGBUJ",
   "metadata": {
    "id": "BykHGvZfGBUJ"
   },
   "source": [
    "We can also save all of this equilibrium information in a python dictionary, so we can access it later if needed."
   ]
  },
  {
   "cell_type": "code",
   "execution_count": 29,
   "id": "XVlFSyOAGHBS",
   "metadata": {
    "execution": {
     "iopub.execute_input": "2025-06-27T19:49:11.699306Z",
     "iopub.status.busy": "2025-06-27T19:49:11.699078Z",
     "iopub.status.idle": "2025-06-27T19:49:11.716039Z",
     "shell.execute_reply": "2025-06-27T19:49:11.715362Z"
    },
    "id": "XVlFSyOAGHBS"
   },
   "outputs": [
    {
     "name": "stdout",
     "output_type": "stream",
     "text": [
      "dict_keys(['Ip', 'Ip_centroid', 'kappa', 'kappaU', 'kappaL', 'delta', 'deltaU', 'deltaL', 'R_geo', 'a_geo', 'vol', 'q_0', 'q_95', 'P_ax', 'W_MHD', 'beta_pol', 'dflux', 'tflux', 'l_i', 'beta_tor', 'beta_n'])\n",
      "2.1266961206172285e-07\n",
      "9.298879255207838e-06\n",
      "2.0714857214881816e-07\n"
     ]
    }
   ],
   "source": [
    "eq_info = tokamaker.get_stats()\n",
    "print(eq_info.keys())\n",
    "print(eq_info[\"beta_n\"])\n",
    "print(eq_info[\"beta_pol\"])\n",
    "print(eq_info[\"beta_tor\"])"
   ]
  },
  {
   "cell_type": "markdown",
   "id": "xQCYiPIZF89k",
   "metadata": {
    "id": "xQCYiPIZF89k"
   },
   "source": [
    "### Plot coil currents\n",
    "\n",
    "For our device to be efficient, we want the currents in our poloidal field coils to be low. Here, we check if our poloidal field coil currents are more than two times the plasma current by plotting our coil currents and the current limit (dashed red line).\n",
    "\n",
    "If any coil has current greater than two times the plasma current, try to adjust your coil positions to reduce their currents. Some things to try:\n",
    "\n",
    "\n",
    "*   Move your coils closer to the plasma (this may require modifying your vacuum vessel)\n",
    "*   Move your coils apart from one another, so they don't have to compete\n",
    "\n"
   ]
  },
  {
   "cell_type": "code",
   "execution_count": 30,
   "id": "Wn4zijQZxq4O",
   "metadata": {
    "colab": {
     "base_uri": "https://localhost:8080/",
     "height": 560
    },
    "execution": {
     "iopub.execute_input": "2025-06-27T19:49:11.719562Z",
     "iopub.status.busy": "2025-06-27T19:49:11.719256Z",
     "iopub.status.idle": "2025-06-27T19:49:12.054985Z",
     "shell.execute_reply": "2025-06-27T19:49:12.054423Z"
    },
    "executionInfo": {
     "elapsed": 618,
     "status": "ok",
     "timestamp": 1740608403504,
     "user": {
      "displayName": "Sophia Blu Guizzo",
      "userId": "07247402270845785778"
     },
     "user_tz": 300
    },
    "id": "Wn4zijQZxq4O",
    "outputId": "47babdd4-c980-48e7-eeaa-de0409d4ea0a"
   },
   "outputs": [
    {
     "name": "stdout",
     "output_type": "stream",
     "text": [
      "{'PF_1': np.float64(-23382990.381049227), 'PF_2': np.float64(-18219436.221889604), 'PF_3': np.float64(6133326.193174329), 'PF_4': np.float64(3824837.448406585), 'PF_5': np.float64(-2987915.819255517), 'PF_6': np.float64(-3384580.438474095), 'PF_7': np.float64(-6468575.669234048), 'PF_8': np.float64(-12361917.781527553)}\n"
     ]
    },
    {
     "name": "stderr",
     "output_type": "stream",
     "text": [
      "/var/folders/z5/d2ytmy3d2h18qcqwb9v71w2m0000gq/T/ipykernel_83731/4287444784.py:16: UserWarning: FigureCanvasAgg is non-interactive, and thus cannot be shown\n",
      "  plt.show()\n"
     ]
    },
    {
     "name": "stdout",
     "output_type": "stream",
     "text": [
      "Saved: examples/testing_1/04_coil_currents.png\n"
     ]
    }
   ],
   "source": [
    "fig,ax = plt.subplots(figsize = (8,6))\n",
    "\n",
    "coil_currents, current_map = tokamaker.get_coil_currents()\n",
    "\n",
    "for i, key in enumerate(coil_dict.keys()):\n",
    "    ax.scatter(key, np.abs(coil_currents[key] / 1E6), color='tab:blue')\n",
    "\n",
    "coil_current_limit = eq_info['Ip']*2\n",
    "ax.hlines(coil_current_limit/1E6, xmin = 0, xmax = len(coil_dict.keys()), color = 'r', linestyle = '--')\n",
    "\n",
    "ax.set_xlabel('Coil name')\n",
    "ax.set_ylabel('Coil current (MA)')\n",
    "\n",
    "print(coil_currents)\n",
    "\n",
    "plt.show()\n",
    "save_figure(fig, \"04_coil_currents.png\")"
   ]
  },
  {
   "cell_type": "markdown",
   "id": "oELjwvf0Lwdy",
   "metadata": {
    "id": "oELjwvf0Lwdy"
   },
   "source": [
    "### Check vertical stability\n",
    "\n",
    "Plasmas in tokamaks with elongation greater than 1 can be susceptible to a \"vertical instability\", where the plasma moves up or down within the vacuum vessel at an exponential rate. Here, we check whether the growth rate of our vertical instability is low enough that it can be prevented with a control system.\n",
    "\n",
    "If the \"feedback capability parameter\" is greater than 2, modify your vacuum vessel to make it closer to the plasma, because the vaccum vessel can help provide vertical stability.\n",
    "\n",
    "**You do not need to change this code.**"
   ]
  },
  {
   "cell_type": "code",
   "execution_count": 31,
   "id": "AS4B0IV6Mah0",
   "metadata": {
    "colab": {
     "base_uri": "https://localhost:8080/"
    },
    "execution": {
     "iopub.execute_input": "2025-06-27T19:49:12.058523Z",
     "iopub.status.busy": "2025-06-27T19:49:12.058268Z",
     "iopub.status.idle": "2025-06-27T19:49:13.119330Z",
     "shell.execute_reply": "2025-06-27T19:49:13.118880Z"
    },
    "executionInfo": {
     "elapsed": 3242,
     "status": "ok",
     "timestamp": 1740608406744,
     "user": {
      "displayName": "Sophia Blu Guizzo",
      "userId": "07247402270845785778"
     },
     "user_tz": 300
    },
    "id": "AS4B0IV6Mah0",
    "outputId": "116f9e04-d6fa-490f-9519-4b9bcf1fc13a"
   },
   "outputs": [
    {
     "name": "stdout",
     "output_type": "stream",
     "text": [
      "Feedback capability parameter: 7.733845234931855\n"
     ]
    }
   ],
   "source": [
    "#### DO NOT CHANGE ####\n",
    "eig_vals, eig_vecs = tokamaker.eig_td(omega = -1E4, neigs = 10)\n",
    "growth_rate = -eig_vals[0,0]\n",
    "\n",
    "eigval_wall, eigvec_wall = tokamaker.eig_wall()\n",
    "wall_time = 1/eigval_wall[1,0]\n",
    "\n",
    "feedback_capability_param = growth_rate*wall_time\n",
    "print('Feedback capability parameter: ' + str(feedback_capability_param))\n",
    "#### DO NOT CHANGE ####"
   ]
  },
  {
   "cell_type": "markdown",
   "id": "e0853aa4",
   "metadata": {},
   "source": [
    "# Calculating Vertical stability in CUTE \n",
    "\n",
    "In the following section, we will:\n",
    "1) Study vertical plasma stability in elongated tokamak plasmas\n",
    "2) Analyze Vertical Displacement Events (VDEs) - dangerous instabilities where the plasma moves vertically and can damage the vessel\n",
    "3) Perform both linear and nonlinear analysis of plasma instabilities\n",
    "\n",
    "To reduce output, we update settings to disable \"performance monitoring\" (eg. solver progress)."
   ]
  },
  {
   "cell_type": "code",
   "execution_count": 32,
   "id": "af5d5528",
   "metadata": {
    "execution": {
     "iopub.execute_input": "2025-06-27T19:49:13.121828Z",
     "iopub.status.busy": "2025-06-27T19:49:13.121608Z",
     "iopub.status.idle": "2025-06-27T19:49:13.137034Z",
     "shell.execute_reply": "2025-06-27T19:49:13.136188Z"
    }
   },
   "outputs": [
    {
     "name": "stdout",
     "output_type": "stream",
     "text": [
      "Equilibrium Statistics:\n",
      "  Topology                =   Diverted\n",
      "  Toroidal Current [A]    =    8.0000E+06\n",
      "  Current Centroid [m]    =    4.860  0.003\n",
      "  Magnetic Axis [m]       =    4.880  0.001\n",
      "  Elongation              =    1.631 (U:  1.747, L:  1.516)\n",
      "  Triangularity           =   -0.527 (U: -0.567, L: -0.487)\n",
      "  Plasma Volume [m^3]     =   93.926\n",
      "  q_0, q_95               =    0.685  1.461\n",
      "  Peak Pressure [Pa]      =    3.3243E-01\n",
      "  Stored Energy [J]       =    1.2462E+01\n",
      "  <Beta_pol> [%]          =    0.0000\n",
      "  <Beta_tor> [%]          =    0.0000\n",
      "  <Beta_n>   [%]          =    0.0000\n",
      "  Diamagnetic flux [Wb]   =    3.5934E-01\n",
      "  Toroidal flux [Wb]      =    3.1786E+01\n",
      "  l_i                     =    1.0277\n"
     ]
    }
   ],
   "source": [
    "tokamaker.settings.pm=False\n",
    "tokamaker.update_settings()\n",
    "\n",
    "tokamaker.print_info()"
   ]
  },
  {
   "cell_type": "markdown",
   "id": "61c74eb2",
   "metadata": {},
   "source": [
    "### Compute linear stability as a function of $\\beta_p$\n",
    "Now we perform a scan of $\\beta_p$, computing the linear stability properties of the equilibrium at each point. We do this by looping over desired values of $\\beta_p$ and performing the following steps at each point:\n",
    "\n",
    " 1. Compute the desired equilibrium by\n",
    "   1. Set the shape constraints (needed as we remove them in step 3)\n",
    "   2. Re-initialize $\\psi$ (needed as we evolve far from the initial equilibrium in step 3)\n",
    "   3. Solve for the equilibrium, with a few iterations to converge the desired $\\beta_p$\n",
    " 2. Compute linear stability using \\ref OpenFUSIONToolkit.TokaMaker.eig_td() \"eig_td()\"\n",
    "   1. Save most unstable mode and growth rate\n",
    " 3. Compute nonlinear evolution of a perturbed equilibrium\n",
    "   1. Set the initial condition by adding a small contribution from the most unstable linear mode\n",
    "   2. Remove saddle and isoflux constraints\n",
    "   3. Setup the time-dependent solver\n",
    "   4. Loop over 30 timesteps with a timestep determined by the linear growth rate, saving the equilibrium and vertical position at each time"
   ]
  },
  {
   "cell_type": "code",
   "execution_count": 33,
   "id": "d39ec072",
   "metadata": {
    "execution": {
     "iopub.execute_input": "2025-06-27T19:49:13.139678Z",
     "iopub.status.busy": "2025-06-27T19:49:13.139488Z",
     "iopub.status.idle": "2025-06-27T19:50:49.447042Z",
     "shell.execute_reply": "2025-06-27T19:50:49.446163Z"
    }
   },
   "outputs": [
    {
     "name": "stdout",
     "output_type": "stream",
     "text": [
      "Computing Beta_approx [%] 1.00\n"
     ]
    },
    {
     "name": "stdout",
     "output_type": "stream",
     "text": [
      "  Actual Beta_p = 1.00\n"
     ]
    },
    {
     "name": "stdout",
     "output_type": "stream",
     "text": [
      "Computing Beta_approx [%] 6.44\n"
     ]
    },
    {
     "name": "stdout",
     "output_type": "stream",
     "text": [
      "  Actual Beta_p = 6.46\n"
     ]
    },
    {
     "name": "stdout",
     "output_type": "stream",
     "text": [
      "Computing Beta_approx [%] 11.89\n"
     ]
    },
    {
     "name": "stdout",
     "output_type": "stream",
     "text": [
      "  Actual Beta_p = 11.88\n"
     ]
    },
    {
     "name": "stdout",
     "output_type": "stream",
     "text": [
      "Computing Beta_approx [%] 17.33\n"
     ]
    },
    {
     "name": "stdout",
     "output_type": "stream",
     "text": [
      "  Actual Beta_p = 17.36\n"
     ]
    },
    {
     "name": "stdout",
     "output_type": "stream",
     "text": [
      "Computing Beta_approx [%] 22.78\n"
     ]
    },
    {
     "name": "stdout",
     "output_type": "stream",
     "text": [
      "  Actual Beta_p = 22.87\n"
     ]
    },
    {
     "name": "stdout",
     "output_type": "stream",
     "text": [
      "Computing Beta_approx [%] 28.22\n"
     ]
    },
    {
     "name": "stdout",
     "output_type": "stream",
     "text": [
      "  Actual Beta_p = 28.19\n"
     ]
    },
    {
     "name": "stdout",
     "output_type": "stream",
     "text": [
      "Computing Beta_approx [%] 33.67\n"
     ]
    },
    {
     "name": "stdout",
     "output_type": "stream",
     "text": [
      "  Actual Beta_p = 33.69\n"
     ]
    },
    {
     "name": "stdout",
     "output_type": "stream",
     "text": [
      "Computing Beta_approx [%] 39.11\n"
     ]
    },
    {
     "name": "stdout",
     "output_type": "stream",
     "text": [
      "  Actual Beta_p = 39.11\n"
     ]
    },
    {
     "name": "stderr",
     "output_type": "stream",
     "text": [
      "/Users/alt2005/OpenFUSIONToolkit/install_release/python/OpenFUSIONToolkit/TokaMaker/_core.py:883: RuntimeWarning: divide by zero encountered in divide\n",
      "  psi = (psi-psi_lim.value)/(psi_max.value-psi_lim.value)\n",
      "/Users/alt2005/OpenFUSIONToolkit/install_release/python/OpenFUSIONToolkit/TokaMaker/_core.py:883: RuntimeWarning: invalid value encountered in divide\n",
      "  psi = (psi-psi_lim.value)/(psi_max.value-psi_lim.value)\n"
     ]
    },
    {
     "name": "stdout",
     "output_type": "stream",
     "text": [
      "Computing Beta_approx [%] 44.56\n"
     ]
    },
    {
     "name": "stdout",
     "output_type": "stream",
     "text": [
      "  Actual Beta_p = 44.30\n"
     ]
    },
    {
     "name": "stdout",
     "output_type": "stream",
     "text": [
      "Computing Beta_approx [%] 50.00\n"
     ]
    },
    {
     "name": "stdout",
     "output_type": "stream",
     "text": [
      "  Actual Beta_p = 50.16\n"
     ]
    }
   ],
   "source": [
    "growth = []\n",
    "beta_p = []\n",
    "modes = []\n",
    "zhist = []\n",
    "beta_scale = 1.0\n",
    "\n",
    "for beta_target in np.linspace(0.01,0.5,10): # how do you find the range???\n",
    "    print('Computing Beta_approx [%] {0:.2f}'.format(beta_target*100.0))\n",
    "    # Compute new equilibrium\n",
    "    tokamaker.init_psi(major_radius,0.0,minor_radius,elongation,triangularity)\n",
    "    beta_approx = beta_target*beta_scale\n",
    "\n",
    "    for i in range(4):\n",
    "        tokamaker.set_targets(Ip=Ip_target,Ip_ratio=(1.0/beta_approx - 1.0))\n",
    "        tokamaker.solve()\n",
    "        beta_approx *= beta_target/tokamaker.get_stats()['beta_pol']*100.0\n",
    "    beta_scale = beta_approx/beta_target\n",
    "    beta_p.append(tokamaker.get_stats()['beta_pol'])\n",
    "    print('  Actual Beta_p = {0:.2f}'.format(beta_p[-1]))\n",
    "    psi0 = tokamaker.get_psi(False)\n",
    "    # Compute linear stability\n",
    "    eig_vals, eig_vecs = tokamaker.eig_td(-1.E5,10,False)\n",
    "    eig_sign = eig_vecs[0,tokamaker.r[:,1]>0.0][abs(eig_vecs[0,tokamaker.r[:,1]>0.0]).argmax()]\n",
    "    modes.append(eig_vecs[0,:]*eig_sign)\n",
    "    growth.append(eig_vals[0,0])\n",
    "    # Compute nonlinear evolution\n",
    "    psi_ic = psi0-0.01*eig_vecs[0,:]*(tokamaker.psi_bounds[1]-tokamaker.psi_bounds[0])/eig_sign\n",
    "    tokamaker.set_psi(psi_ic)\n",
    "    dt = 0.2/abs(eig_vals[0,0])\n",
    "    tokamaker.setup_td(dt,1.E-13,1.E-11)\n",
    "    sim_time = 0.0\n",
    "    results = []\n",
    "    z0 = [[sim_time,tokamaker.o_point[1]],]\n",
    "    for i in range(30):\n",
    "        sim_time, _, nl_its, lin_its, nretry = tokamaker.step_td(sim_time,dt)\n",
    "        assert nretry >= 0\n",
    "        z0.append([sim_time,tokamaker.o_point[1]])\n",
    "        results.append(tokamaker.get_psi())\n",
    "    zhist.append(z0)\n"
   ]
  },
  {
   "cell_type": "markdown",
   "id": "c38904ba",
   "metadata": {},
   "source": [
    "### Plot growth rate trend\n",
    "Once complete, we can plot the trend in the growth rate, which shows a decreasing growth rate for the vertical instability with increasing $\\beta_p$."
   ]
  },
  {
   "cell_type": "code",
   "execution_count": 34,
   "id": "5855697d",
   "metadata": {
    "execution": {
     "iopub.execute_input": "2025-06-27T19:50:49.455359Z",
     "iopub.status.busy": "2025-06-27T19:50:49.455149Z",
     "iopub.status.idle": "2025-06-27T19:50:49.489277Z",
     "shell.execute_reply": "2025-06-27T19:50:49.488913Z"
    }
   },
   "outputs": [],
   "source": [
    "fig, ax = plt.subplots(1,1)\n",
    "ax.plot(beta_p,growth)\n",
    "ax.set_ylim(top=0.0)\n",
    "ax.grid(True)\n",
    "ax.set_ylabel(r'$\\gamma$ [1/s]')\n",
    "_ = ax.set_xlabel(r'$\\beta_p$ [%]')\n"
   ]
  },
  {
   "cell_type": "markdown",
   "id": "ec0c90d2",
   "metadata": {},
   "source": [
    "### Plot linear eigenmodes\n",
    "\n",
    "To better understand why this trend occurs, we can plot the linearly unstable mode structure as a function of $\\beta_p$. From this we can see that as $\\beta_p$ increases the mode structure shifts outboard and more of the perturbed flux (relative to the peak value) interacts with the wall. As the resistivity of the wall is what sets the timescale in a time-dependent Grad-Shafranov model, this explains the decrease in growth rate as as higher $\\beta_p$ more flux must move through the wall (via resisitive diffusion) for the same growth in amplitude."
   ]
  },
  {
   "cell_type": "code",
   "execution_count": 35,
   "id": "2aac9228",
   "metadata": {
    "execution": {
     "iopub.execute_input": "2025-06-27T19:50:49.491048Z",
     "iopub.status.busy": "2025-06-27T19:50:49.490908Z",
     "iopub.status.idle": "2025-06-27T19:50:50.862304Z",
     "shell.execute_reply": "2025-06-27T19:50:50.861925Z"
    }
   },
   "outputs": [],
   "source": [
    "import matplotlib as mpl\n",
    "\n",
    "norm = mpl.colors.Normalize(vmin=beta_p[0], vmax=beta_p[-1])\n",
    "scalarMap = mpl.cm.ScalarMappable(norm=norm, cmap=plt.cm.viridis)\n",
    "\n",
    "fig, ax = plt.subplots(1,4,sharey=True,constrained_layout=True,figsize=(8,4))\n",
    "for ax_tmp in ax:\n",
    "    tokamaker.plot_machine(fig,ax_tmp,limiter_color=None)\n",
    "for j, i in enumerate((0,3,6,9)): # 0,3,6,9\n",
    "    colorVal = scalarMap.to_rgba(beta_p[i])\n",
    "    tokamaker.plot_psi(fig,ax[j],psi=modes[i],plasma_nlevels=6,normalized=False,plasma_color=[colorVal],opoint_color=None,xpoint_color=None,vacuum_nlevels=0)\n",
    "    tokamaker.plot_eddy(fig,ax[j],dpsi_dt=modes[i]*abs(growth[i]),colormap='seismic',symmap=True,clabel=None)\n",
    "for ax_tmp in ax:\n",
    "    ax_tmp.set_xlabel(r'R [m]')\n",
    "ax[0].set_ylabel(r'Z [m]')\n",
    "_ = fig.colorbar(scalarMap,ax=ax[:],label=r'$\\beta_p$ [%]')"
   ]
  },
  {
   "cell_type": "markdown",
   "id": "84162b8b",
   "metadata": {},
   "source": [
    "### Plot nonlinear plasma evolution\n",
    "We can also plot the evolution of the vertical position of the magnetic axis from the nonlinear evolution of each of the points in the $\\beta_p$ scan. This shows the same behavior as the linear study (as expected of course), where the growth rate (velocity of the vertical position) decreases with increasing $\\beta_p$. Additionally, clear linear (straight line on a log plot) and nonlinear phases are visible for each case."
   ]
  },
  {
   "cell_type": "code",
   "execution_count": 36,
   "id": "a6dc5a2c",
   "metadata": {
    "execution": {
     "iopub.execute_input": "2025-06-27T19:50:50.864391Z",
     "iopub.status.busy": "2025-06-27T19:50:50.864246Z",
     "iopub.status.idle": "2025-06-27T19:50:50.881677Z",
     "shell.execute_reply": "2025-06-27T19:50:50.881316Z"
    }
   },
   "outputs": [],
   "source": [
    "fig, ax = plt.subplots(1,1)\n",
    "for i, z0 in enumerate(zhist):\n",
    "    z_hist = np.asarray(z0); z_hist = z_hist[1:,:] - [z_hist[1,0], z_hist[0,1]]\n",
    "    colorVal = scalarMap.to_rgba(beta_p[i])\n",
    "    ax.semilogy(z_hist[:,0]*1.E3,abs(z_hist[:,1]),color=colorVal)\n",
    "ax.grid(True)\n",
    "ax.set_ylabel(r'$|\\Delta Z_0|$ [m]')\n",
    "ax.set_xlabel(r'Time [ms]')\n",
    "_ = fig.colorbar(scalarMap,ax=ax,label=r'$\\beta_p$ [%]')"
   ]
  },
  {
   "cell_type": "markdown",
   "id": "e395b2e9",
   "metadata": {},
   "source": [
    "### Plasma Evolution During Vertical Displacement Event\n",
    "\n",
    "We can visualize the time evolution of plasma flux surfaces during a vertical displacement event. Let's plots multiple plasma equilibria at different time steps, color-coded from the simulation time sequence, showing how the plasma shape and position change as the VDE progresses. The colorbar indicates the time progression in milliseconds, allowing you to see the plasma's vertical movement and deformation over the course of the instability."
   ]
  },
  {
   "cell_type": "code",
   "execution_count": 37,
   "id": "1a5bb67f",
   "metadata": {
    "execution": {
     "iopub.execute_input": "2025-06-27T19:50:50.883368Z",
     "iopub.status.busy": "2025-06-27T19:50:50.883213Z",
     "iopub.status.idle": "2025-06-27T19:50:51.310960Z",
     "shell.execute_reply": "2025-06-27T19:50:51.310621Z"
    }
   },
   "outputs": [],
   "source": [
    "fig, ax = plt.subplots(constrained_layout=True,figsize=(8,5))\n",
    "tokamaker.plot_machine(fig,ax)\n",
    "colors = plt.cm.jet(np.linspace(0,1,len(results)))\n",
    "for i, result in enumerate(results):\n",
    "    tokamaker.plot_psi(fig,ax,psi=result,plasma_nlevels=1,plasma_color=[colors[i]], vacuum_nlevels = 0,xpoint_color=None,opoint_color=None)\n",
    "norm = mpl.colors.Normalize(vmin=0.0, vmax=sim_time*1.E3)\n",
    "colors = plt.cm.jet(np.linspace(0,1,len(results)))\n",
    "\n",
    "norm = mpl.colors.Normalize(vmin=0.0, vmax=sim_time*1.E3)\n",
    "_ = fig.colorbar(mpl.cm.ScalarMappable(norm=norm, cmap=plt.cm.jet),ax=ax,label='Time [ms]')\n"
   ]
  },
  {
   "cell_type": "code",
   "execution_count": 38,
   "id": "0decad12",
   "metadata": {
    "execution": {
     "iopub.execute_input": "2025-06-27T19:50:51.312814Z",
     "iopub.status.busy": "2025-06-27T19:50:51.312666Z",
     "iopub.status.idle": "2025-06-27T19:51:03.331347Z",
     "shell.execute_reply": "2025-06-27T19:51:03.330669Z"
    }
   },
   "outputs": [
    {
     "name": "stdout",
     "output_type": "stream",
     "text": [
      "Saved VDE animation: examples/testing_1/05_vde_evolution.gif\n"
     ]
    }
   ],
   "source": [
    "import matplotlib.animation\n",
    "from matplotlib.ticker import FuncFormatter\n",
    "from IPython.display import HTML\n",
    "plt.rcParams['savefig.dpi'] = 100\n",
    "plt.rcParams['animation.embed_limit'] = 1.E8\n",
    "\n",
    "plt.rcParams['lines.linewidth']=3\n",
    "fig, ax = plt.subplots(figsize=(16,10))\n",
    "times = np.linspace(0,sim_time, len(results))*1000\n",
    "def animate(i):\n",
    "    ax.clear()\n",
    "    tokamaker.plot_machine(fig,ax)\n",
    "    tokamaker.plot_psi(fig,ax,psi=results[i],plasma_nlevels=8,plasma_colormap= 'magma', vacuum_nlevels = 6,xpoint_color=None,opoint_color=None)\n",
    "    ax.text(0.45, 0.72, f\"{times[i]:.2f}\"+' ms', color = 'k', fontsize = 18)\n",
    "    ax.set_xlabel('R (m)', fontsize = 14)\n",
    "    ax.set_ylabel('Z (m)', fontsize = 14)\n",
    "    ax.set_ylim(-2.0, 2.0)\n",
    "\n",
    "ani = matplotlib.animation.FuncAnimation(fig, animate, frames=len(results))\n",
    "\n",
    "HTML(ani.to_jshtml())\n",
    "\n",
    "# Save as GIF\n",
    "writer = matplotlib.animation.PillowWriter(fps=5,\n",
    "                                 metadata=dict(artist='Sophia Guizzo'),\n",
    "                                 bitrate=1800)\n",
    "\n",
    "# Save to simulation folder with user-defined name\n",
    "gif_filename = \"05_vde_evolution.gif\"\n",
    "gif_path = os.path.join(simulation_folder, gif_filename)\n",
    "ani.save(gif_path, writer=writer)\n",
    "print(f\"Saved VDE animation: {gif_path}\")"
   ]
  },
  {
   "cell_type": "code",
   "execution_count": 39,
   "id": "bc1a5c13",
   "metadata": {
    "execution": {
     "iopub.execute_input": "2025-06-27T19:51:03.335295Z",
     "iopub.status.busy": "2025-06-27T19:51:03.335078Z",
     "iopub.status.idle": "2025-06-27T19:51:03.338876Z",
     "shell.execute_reply": "2025-06-27T19:51:03.338542Z"
    }
   },
   "outputs": [
    {
     "name": "stdout",
     "output_type": "stream",
     "text": [
      "\n",
      "==================================================\n",
      "SIMULATION COMPLETE\n",
      "==================================================\n",
      "All files saved to: examples/testing_1\n",
      "\n",
      "Generated files:\n",
      "  - 04_coil_currents.png\n",
      "  - 02_plasma_profiles.png\n",
      "  - 01_vacuum_vessel_design.png\n",
      "  - 05_vde_evolution.gif\n",
      "  - 03_initial_equilibrium.png\n",
      "  - design_20250627_154858.json\n",
      "  - design_20250627_154845.json\n",
      "==================================================\n"
     ]
    }
   ],
   "source": [
    "# Final summary\n",
    "print(\"\\n\" + \"=\"*50)\n",
    "print(\"SIMULATION COMPLETE\")\n",
    "print(\"=\"*50)\n",
    "print(f\"All files saved to: {simulation_folder}\")\n",
    "print(\"\\nGenerated files:\")\n",
    "for file in os.listdir(simulation_folder):\n",
    "    print(f\"  - {file}\")\n",
    "print(\"=\"*50)"
   ]
  }
 ],
 "metadata": {
  "colab": {
   "provenance": [
    {
     "file_id": "https://github.com/OpenFUSIONToolkit/OpenFUSIONToolkit-Tutorials/blob/main/PPPL_SULI-2024/ex2-free_boundary-Complete.ipynb",
     "timestamp": 1736186381838
    }
   ]
  },
  "kernelspec": {
   "display_name": "Python 3 (ipykernel)",
   "language": "python",
   "name": "python3"
  },
  "language_info": {
   "codemirror_mode": {
    "name": "ipython",
    "version": 3
   },
   "file_extension": ".py",
   "mimetype": "text/x-python",
   "name": "python",
   "nbconvert_exporter": "python",
   "pygments_lexer": "ipython3",
   "version": "3.11.13"
  }
 },
 "nbformat": 4,
 "nbformat_minor": 5
}
